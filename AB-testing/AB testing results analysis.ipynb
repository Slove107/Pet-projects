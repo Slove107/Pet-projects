{
 "cells": [
  {
   "attachments": {},
   "cell_type": "markdown",
   "metadata": {},
   "source": [
    "Context\n",
    "This dataset includes A/B test results of Cookie Cats to examine what happens when the first gate in the game was moved from level 30 to level 40. When a player installed the game, he or she was randomly assigned to either gate_30 or gate_40.\n",
    "\n",
    "Content\n",
    "The data we have is from 90,189 players that installed the game while the AB-test was running. The variables are:\n",
    "\n",
    "userid: A unique number that identifies each player.\n",
    "version: Whether the player was put in the control group (gate_30 - a gate at level 30) or the group with the moved gate (gate_40 - a gate at level 40).\n",
    "sum_gamerounds: the number of game rounds played by the player during the first 14 days after install.\n",
    "retention_1: Did the player come back and play 1 day after installing?\n",
    "retention_7: Did the player come back and play 7 days after installing?\n",
    "\n",
    "When a player installed the game, he or she was randomly assigned to either.\n",
    "\n",
    "Dataset link:\n",
    "https://www.kaggle.com/datasets/mursideyarkin/mobile-games-ab-testing-cookie-cats?select=cookie_cats.csv"
   ]
  },
  {
   "attachments": {},
   "cell_type": "markdown",
   "metadata": {},
   "source": [
    "Контекст\n",
    "Этот датасет включает результаты A/B-теста приложения Cookie Cats, чтобы проверить, что происходит, когда первые врата в игре перенесены с уровня 30 на уровень 40. Когда игрок устанавливает игру, он/она рандомно \n",
    "\n",
    "Содержимое\n",
    "Собрана информация о 90,189 игроках, ккоторые установили игру в период проведения A/B-теста.\n",
    "Переменные:\n",
    "userid - уникальный номер, который идентефицирует каждого игрока\n",
    "version - одна из двух версий игры ( A или B), в которую были помещены игроки в ходе A/B тестирования. gate_30 - контрольная группа, gate_40 - тестовая группа.\n",
    "sum_gamerounds - количество раундов, которые сыграны игроко в течение первых 14 дней после установки\n",
    "retention_1 - метрика ретеншн первого дня, вернулся ли игрок спустя 1 день после установки\n",
    "retention_7 - метрика ретеншн первого дня, вернулся ли игрок спустя 7 дней после установки\n",
    "\n",
    "Ссылка на датасет:\n",
    "https://www.kaggle.com/datasets/mursideyarkin/mobile-games-ab-testing-cookie-cats?select=cookie_cats.csv"
   ]
  },
  {
   "cell_type": "code",
   "execution_count": 5,
   "metadata": {},
   "outputs": [],
   "source": [
    "#Импортируем необходимые библиотеки / Import all necessary libraries\n",
    "\n",
    "import pandas as pd\n",
    "import numpy as np\n",
    "import seaborn as sns\n",
    "import matplotlib.pyplot as plt\n",
    "import scipy.stats as stats\n",
    "import statsmodels.api as sm\n",
    "import statsmodels.stats.api as sms\n",
    "from tqdm import tqdm"
   ]
  },
  {
   "cell_type": "code",
   "execution_count": 6,
   "metadata": {},
   "outputs": [],
   "source": [
    "url = 'https://drive.google.com/file/d/1LBjrAL3ICkAPlFpZBsPzf2p51zuB9HYu/view?usp=sharing'\n",
    "url = 'https://drive.google.com/uc?id=' + url.split('/')[-2]\n",
    "table = pd.read_csv(url)"
   ]
  },
  {
   "attachments": {},
   "cell_type": "markdown",
   "metadata": {},
   "source": [
    "[Ru] - Посмотрим на таблицу, типы данных в таблице, дубликаты и пропущенные значения\n",
    "\n",
    "__________________________________________________________________________________________\n",
    "\n",
    "[En] - Let's look at the table, data types, duplicates in the table and missing values"
   ]
  },
  {
   "cell_type": "code",
   "execution_count": 7,
   "metadata": {},
   "outputs": [
    {
     "data": {
      "text/html": [
       "<div>\n",
       "<style scoped>\n",
       "    .dataframe tbody tr th:only-of-type {\n",
       "        vertical-align: middle;\n",
       "    }\n",
       "\n",
       "    .dataframe tbody tr th {\n",
       "        vertical-align: top;\n",
       "    }\n",
       "\n",
       "    .dataframe thead th {\n",
       "        text-align: right;\n",
       "    }\n",
       "</style>\n",
       "<table border=\"1\" class=\"dataframe\">\n",
       "  <thead>\n",
       "    <tr style=\"text-align: right;\">\n",
       "      <th></th>\n",
       "      <th>userid</th>\n",
       "      <th>version</th>\n",
       "      <th>sum_gamerounds</th>\n",
       "      <th>retention_1</th>\n",
       "      <th>retention_7</th>\n",
       "    </tr>\n",
       "  </thead>\n",
       "  <tbody>\n",
       "    <tr>\n",
       "      <th>0</th>\n",
       "      <td>116</td>\n",
       "      <td>gate_30</td>\n",
       "      <td>3</td>\n",
       "      <td>False</td>\n",
       "      <td>False</td>\n",
       "    </tr>\n",
       "    <tr>\n",
       "      <th>1</th>\n",
       "      <td>337</td>\n",
       "      <td>gate_30</td>\n",
       "      <td>38</td>\n",
       "      <td>True</td>\n",
       "      <td>False</td>\n",
       "    </tr>\n",
       "    <tr>\n",
       "      <th>2</th>\n",
       "      <td>377</td>\n",
       "      <td>gate_40</td>\n",
       "      <td>165</td>\n",
       "      <td>True</td>\n",
       "      <td>False</td>\n",
       "    </tr>\n",
       "    <tr>\n",
       "      <th>3</th>\n",
       "      <td>483</td>\n",
       "      <td>gate_40</td>\n",
       "      <td>1</td>\n",
       "      <td>False</td>\n",
       "      <td>False</td>\n",
       "    </tr>\n",
       "    <tr>\n",
       "      <th>4</th>\n",
       "      <td>488</td>\n",
       "      <td>gate_40</td>\n",
       "      <td>179</td>\n",
       "      <td>True</td>\n",
       "      <td>True</td>\n",
       "    </tr>\n",
       "  </tbody>\n",
       "</table>\n",
       "</div>"
      ],
      "text/plain": [
       "   userid  version  sum_gamerounds  retention_1  retention_7\n",
       "0     116  gate_30               3        False        False\n",
       "1     337  gate_30              38         True        False\n",
       "2     377  gate_40             165         True        False\n",
       "3     483  gate_40               1        False        False\n",
       "4     488  gate_40             179         True         True"
      ]
     },
     "execution_count": 7,
     "metadata": {},
     "output_type": "execute_result"
    }
   ],
   "source": [
    "table.head()"
   ]
  },
  {
   "cell_type": "code",
   "execution_count": 8,
   "metadata": {},
   "outputs": [
    {
     "data": {
      "text/plain": [
       "userid             int64\n",
       "version           object\n",
       "sum_gamerounds     int64\n",
       "retention_1         bool\n",
       "retention_7         bool\n",
       "dtype: object"
      ]
     },
     "execution_count": 8,
     "metadata": {},
     "output_type": "execute_result"
    }
   ],
   "source": [
    "table.dtypes"
   ]
  },
  {
   "cell_type": "code",
   "execution_count": 9,
   "metadata": {},
   "outputs": [
    {
     "data": {
      "text/html": [
       "<div>\n",
       "<style scoped>\n",
       "    .dataframe tbody tr th:only-of-type {\n",
       "        vertical-align: middle;\n",
       "    }\n",
       "\n",
       "    .dataframe tbody tr th {\n",
       "        vertical-align: top;\n",
       "    }\n",
       "\n",
       "    .dataframe thead th {\n",
       "        text-align: right;\n",
       "    }\n",
       "</style>\n",
       "<table border=\"1\" class=\"dataframe\">\n",
       "  <thead>\n",
       "    <tr style=\"text-align: right;\">\n",
       "      <th></th>\n",
       "      <th>userid</th>\n",
       "      <th>sum_gamerounds</th>\n",
       "    </tr>\n",
       "  </thead>\n",
       "  <tbody>\n",
       "    <tr>\n",
       "      <th>count</th>\n",
       "      <td>9.018900e+04</td>\n",
       "      <td>90189.000000</td>\n",
       "    </tr>\n",
       "    <tr>\n",
       "      <th>mean</th>\n",
       "      <td>4.998412e+06</td>\n",
       "      <td>51.872457</td>\n",
       "    </tr>\n",
       "    <tr>\n",
       "      <th>std</th>\n",
       "      <td>2.883286e+06</td>\n",
       "      <td>195.050858</td>\n",
       "    </tr>\n",
       "    <tr>\n",
       "      <th>min</th>\n",
       "      <td>1.160000e+02</td>\n",
       "      <td>0.000000</td>\n",
       "    </tr>\n",
       "    <tr>\n",
       "      <th>25%</th>\n",
       "      <td>2.512230e+06</td>\n",
       "      <td>5.000000</td>\n",
       "    </tr>\n",
       "    <tr>\n",
       "      <th>50%</th>\n",
       "      <td>4.995815e+06</td>\n",
       "      <td>16.000000</td>\n",
       "    </tr>\n",
       "    <tr>\n",
       "      <th>75%</th>\n",
       "      <td>7.496452e+06</td>\n",
       "      <td>51.000000</td>\n",
       "    </tr>\n",
       "    <tr>\n",
       "      <th>max</th>\n",
       "      <td>9.999861e+06</td>\n",
       "      <td>49854.000000</td>\n",
       "    </tr>\n",
       "  </tbody>\n",
       "</table>\n",
       "</div>"
      ],
      "text/plain": [
       "             userid  sum_gamerounds\n",
       "count  9.018900e+04    90189.000000\n",
       "mean   4.998412e+06       51.872457\n",
       "std    2.883286e+06      195.050858\n",
       "min    1.160000e+02        0.000000\n",
       "25%    2.512230e+06        5.000000\n",
       "50%    4.995815e+06       16.000000\n",
       "75%    7.496452e+06       51.000000\n",
       "max    9.999861e+06    49854.000000"
      ]
     },
     "execution_count": 9,
     "metadata": {},
     "output_type": "execute_result"
    }
   ],
   "source": [
    "table.describe()"
   ]
  },
  {
   "cell_type": "code",
   "execution_count": 10,
   "metadata": {},
   "outputs": [
    {
     "data": {
      "text/plain": [
       "userid            0.0\n",
       "version           0.0\n",
       "sum_gamerounds    0.0\n",
       "retention_1       0.0\n",
       "retention_7       0.0\n",
       "dtype: float64"
      ]
     },
     "execution_count": 10,
     "metadata": {},
     "output_type": "execute_result"
    }
   ],
   "source": [
    "table.isnull().mean()"
   ]
  },
  {
   "cell_type": "code",
   "execution_count": 11,
   "metadata": {},
   "outputs": [
    {
     "data": {
      "text/plain": [
       "0"
      ]
     },
     "execution_count": 11,
     "metadata": {},
     "output_type": "execute_result"
    }
   ],
   "source": [
    "table.userid.duplicated().sum()"
   ]
  },
  {
   "cell_type": "code",
   "execution_count": 12,
   "metadata": {},
   "outputs": [
    {
     "data": {
      "text/html": [
       "<div>\n",
       "<style scoped>\n",
       "    .dataframe tbody tr th:only-of-type {\n",
       "        vertical-align: middle;\n",
       "    }\n",
       "\n",
       "    .dataframe tbody tr th {\n",
       "        vertical-align: top;\n",
       "    }\n",
       "\n",
       "    .dataframe thead th {\n",
       "        text-align: right;\n",
       "    }\n",
       "</style>\n",
       "<table border=\"1\" class=\"dataframe\">\n",
       "  <thead>\n",
       "    <tr style=\"text-align: right;\">\n",
       "      <th></th>\n",
       "      <th>userid</th>\n",
       "      <th>sum_gamerounds</th>\n",
       "      <th>retention_1</th>\n",
       "      <th>retention_7</th>\n",
       "    </tr>\n",
       "    <tr>\n",
       "      <th>version</th>\n",
       "      <th></th>\n",
       "      <th></th>\n",
       "      <th></th>\n",
       "      <th></th>\n",
       "    </tr>\n",
       "  </thead>\n",
       "  <tbody>\n",
       "    <tr>\n",
       "      <th>gate_30</th>\n",
       "      <td>1937</td>\n",
       "      <td>1937</td>\n",
       "      <td>1937</td>\n",
       "      <td>1937</td>\n",
       "    </tr>\n",
       "    <tr>\n",
       "      <th>gate_40</th>\n",
       "      <td>2057</td>\n",
       "      <td>2057</td>\n",
       "      <td>2057</td>\n",
       "      <td>2057</td>\n",
       "    </tr>\n",
       "  </tbody>\n",
       "</table>\n",
       "</div>"
      ],
      "text/plain": [
       "         userid  sum_gamerounds  retention_1  retention_7\n",
       "version                                                  \n",
       "gate_30    1937            1937         1937         1937\n",
       "gate_40    2057            2057         2057         2057"
      ]
     },
     "execution_count": 12,
     "metadata": {},
     "output_type": "execute_result"
    }
   ],
   "source": [
    "table.query('sum_gamerounds ==0').groupby('version').count()"
   ]
  },
  {
   "attachments": {},
   "cell_type": "markdown",
   "metadata": {},
   "source": [
    "\n",
    "[En] We see that there are no duplicated and missing values in researching table. There are no crossing values between control and test groups, so the groups are independent\n",
    "__________________________________________________________________________________________\n",
    "\n",
    "[Ru] Видим, что пропущенных значений и дубликатов значений нет в исследуемом датасете. Также видим, что нет пересечений между контрольной и тестовой группами, следовательно, группы являются независимыми.\n"
   ]
  },
  {
   "attachments": {},
   "cell_type": "markdown",
   "metadata": {},
   "source": [
    "[En] Let's have a look on A/B-test groups\n",
    "__________________________________________________________________________________________\n",
    "\n",
    "[Ru] Посмотрим на группы A/B-теста."
   ]
  },
  {
   "cell_type": "code",
   "execution_count": 13,
   "metadata": {},
   "outputs": [
    {
     "data": {
      "text/plain": [
       "gate_40    45489\n",
       "gate_30    44700\n",
       "Name: version, dtype: int64"
      ]
     },
     "execution_count": 13,
     "metadata": {},
     "output_type": "execute_result"
    }
   ],
   "source": [
    "table['version'].value_counts()"
   ]
  },
  {
   "cell_type": "code",
   "execution_count": 14,
   "metadata": {},
   "outputs": [
    {
     "data": {
      "text/plain": [
       "gate_40    0.504374\n",
       "gate_30    0.495626\n",
       "Name: version, dtype: float64"
      ]
     },
     "execution_count": 14,
     "metadata": {},
     "output_type": "execute_result"
    }
   ],
   "source": [
    "table['version'].value_counts(normalize=True) #Процент количества значений в каждой из групп / Percentage of values in groups"
   ]
  },
  {
   "cell_type": "code",
   "execution_count": 15,
   "metadata": {},
   "outputs": [
    {
     "data": {
      "text/html": [
       "<div>\n",
       "<style scoped>\n",
       "    .dataframe tbody tr th:only-of-type {\n",
       "        vertical-align: middle;\n",
       "    }\n",
       "\n",
       "    .dataframe tbody tr th {\n",
       "        vertical-align: top;\n",
       "    }\n",
       "\n",
       "    .dataframe thead th {\n",
       "        text-align: right;\n",
       "    }\n",
       "</style>\n",
       "<table border=\"1\" class=\"dataframe\">\n",
       "  <thead>\n",
       "    <tr style=\"text-align: right;\">\n",
       "      <th></th>\n",
       "      <th>userid</th>\n",
       "      <th>sum_gamerounds</th>\n",
       "      <th>retention_1</th>\n",
       "      <th>retention_7</th>\n",
       "    </tr>\n",
       "    <tr>\n",
       "      <th>version</th>\n",
       "      <th></th>\n",
       "      <th></th>\n",
       "      <th></th>\n",
       "      <th></th>\n",
       "    </tr>\n",
       "  </thead>\n",
       "  <tbody>\n",
       "    <tr>\n",
       "      <th>gate_30</th>\n",
       "      <td>44700</td>\n",
       "      <td>52.456264</td>\n",
       "      <td>20034</td>\n",
       "      <td>8502</td>\n",
       "    </tr>\n",
       "    <tr>\n",
       "      <th>gate_40</th>\n",
       "      <td>45489</td>\n",
       "      <td>51.298776</td>\n",
       "      <td>20119</td>\n",
       "      <td>8279</td>\n",
       "    </tr>\n",
       "  </tbody>\n",
       "</table>\n",
       "</div>"
      ],
      "text/plain": [
       "         userid  sum_gamerounds  retention_1  retention_7\n",
       "version                                                  \n",
       "gate_30   44700       52.456264        20034         8502\n",
       "gate_40   45489       51.298776        20119         8279"
      ]
     },
     "execution_count": 15,
     "metadata": {},
     "output_type": "execute_result"
    }
   ],
   "source": [
    "grouped_table = table.groupby('version').agg({'userid':'count',\n",
    "                                              'sum_gamerounds':'mean',\n",
    "                                              'retention_1':'sum',\n",
    "                                              'retention_7':'sum'\n",
    "}).copy()\n",
    "grouped_table"
   ]
  },
  {
   "attachments": {},
   "cell_type": "markdown",
   "metadata": {},
   "source": [
    "[EN] As a result, we get 2 independent groups (control and test) which are practically equal in the number of values \n",
    "__________________________________________________________________________________________\n",
    "\n",
    "[RU] В результате проведенного тестирования получили 2 независимые, практически равные по количеству значений, группы (контрольную и тестовую)"
   ]
  },
  {
   "attachments": {},
   "cell_type": "markdown",
   "metadata": {},
   "source": [
    "[EN] There are 3 metrics of mobile app 1-day retention, 7-day retention and the sum of played gamerounds for 14 days after install in this dataset.\n",
    "The retention is one of the important metrics for any mobile app, especially for mobile games.\n",
    "So, retention is a key metric and the sum of played gamerounds for 14 days after install is a secondary metric of the research of the A/B-testing results \n",
    "__________________________________________________________________________________________\n",
    "\n",
    "[RU] В данном датасете представлены 3 метрики мобильного приложения ретеншн (1го и 7го дня) и сумма сыгранных раундов за 14 дней после установки. \n",
    "Для любого мобильного приложения, особенно моб. игры, метрика ретеншна является одной из важнейших метрик.\n",
    "Поэтому целевой метрикой исследования результатов А/Б теста является ретеншн, а второстепенной метрикой - сумма сыгранных раундов. "
   ]
  },
  {
   "attachments": {},
   "cell_type": "markdown",
   "metadata": {},
   "source": [
    "В описании датасета не описан полностью дизайн проводимого A/B-теста.  Исходя из данных сформулируем гипотезу данного A/B-теста:\n",
    "\n",
    "Н0: Не внедрять изменения в продукт, т.к. новая фича никак не влияет или отрицательно влияет на ключевую и второстепенную метрику продукта.\n",
    "\n",
    "Н1: Внедрять изменения - масштабировать новую фичу для всех пользователей, т.к. новая фича положительно влияет на ключевую и второстепенную метрику продукта.\n",
    "\n",
    "Возьмем стандартные значения для проверки гипотезы:\n",
    "\n",
    "Вероятность совершить ошибку 1-го рода (False-positive) Alpha = 5% == 0.05\n",
    "\n",
    "Вероятность совершить ошибку 2-го рода (False-negative) Beta = 20% == 0.20"
   ]
  },
  {
   "attachments": {},
   "cell_type": "markdown",
   "metadata": {},
   "source": [
    "[EN] The order of research \n",
    "1. Retention (1-day/7-day) - key metric\n",
    "2. sum of played gamerounds for 14 days - secondary metric\n",
    "__________________________________________________________________________________________\n",
    "[RU] Порядок исследования результатов А/Б тестирования:\n",
    "1. Ретеншн (1го/7го дня) - ключевая метрика исследов\n",
    "2. Сумма сыгранных раундов - второстепенна метрика"
   ]
  },
  {
   "attachments": {},
   "cell_type": "markdown",
   "metadata": {},
   "source": [
    "Ретеншн 1-го и 7-го дня являются - категориальной независимой переменной. \n",
    "Сначала проверим исследуемые выборки на статистически значимые различия с помощью критерия Хи-квадрат.\n",
    "Далее, проведем еще один тест - Бутстрэп и сравним полученные результаты."
   ]
  },
  {
   "cell_type": "code",
   "execution_count": 16,
   "metadata": {},
   "outputs": [
    {
     "data": {
      "text/html": [
       "<div>\n",
       "<style scoped>\n",
       "    .dataframe tbody tr th:only-of-type {\n",
       "        vertical-align: middle;\n",
       "    }\n",
       "\n",
       "    .dataframe tbody tr th {\n",
       "        vertical-align: top;\n",
       "    }\n",
       "\n",
       "    .dataframe thead th {\n",
       "        text-align: right;\n",
       "    }\n",
       "</style>\n",
       "<table border=\"1\" class=\"dataframe\">\n",
       "  <thead>\n",
       "    <tr style=\"text-align: right;\">\n",
       "      <th></th>\n",
       "      <th>user_count</th>\n",
       "      <th>retention_1</th>\n",
       "      <th>retention_1_rate</th>\n",
       "      <th>retention_7</th>\n",
       "      <th>retention_7_rate</th>\n",
       "      <th>mean_gamerounds</th>\n",
       "    </tr>\n",
       "    <tr>\n",
       "      <th>version</th>\n",
       "      <th></th>\n",
       "      <th></th>\n",
       "      <th></th>\n",
       "      <th></th>\n",
       "      <th></th>\n",
       "      <th></th>\n",
       "    </tr>\n",
       "  </thead>\n",
       "  <tbody>\n",
       "    <tr>\n",
       "      <th>gate_30</th>\n",
       "      <td>44700</td>\n",
       "      <td>20034</td>\n",
       "      <td>0.448188</td>\n",
       "      <td>8502</td>\n",
       "      <td>0.190201</td>\n",
       "      <td>52.456264</td>\n",
       "    </tr>\n",
       "    <tr>\n",
       "      <th>gate_40</th>\n",
       "      <td>45489</td>\n",
       "      <td>20119</td>\n",
       "      <td>0.442283</td>\n",
       "      <td>8279</td>\n",
       "      <td>0.182000</td>\n",
       "      <td>51.298776</td>\n",
       "    </tr>\n",
       "  </tbody>\n",
       "</table>\n",
       "</div>"
      ],
      "text/plain": [
       "         user_count  retention_1  retention_1_rate  retention_7  \\\n",
       "version                                                           \n",
       "gate_30       44700        20034          0.448188         8502   \n",
       "gate_40       45489        20119          0.442283         8279   \n",
       "\n",
       "         retention_7_rate  mean_gamerounds  \n",
       "version                                     \n",
       "gate_30          0.190201        52.456264  \n",
       "gate_40          0.182000        51.298776  "
      ]
     },
     "execution_count": 16,
     "metadata": {},
     "output_type": "execute_result"
    }
   ],
   "source": [
    "grouped_table['retention_1_rate'] = grouped_table['retention_1']/grouped_table['userid']\n",
    "grouped_table['retention_7_rate'] = grouped_table['retention_7']/grouped_table['userid']\n",
    "grouped_table.rename(columns={'userid':'user_count',\n",
    "                               'sum_gamerounds':'mean_gamerounds'}, \n",
    "                               inplace=True)\n",
    "grouped_table = grouped_table.reindex(\n",
    "    columns=['user_count', 'retention_1', 'retention_1_rate', 'retention_7','retention_7_rate', 'mean_gamerounds' ])\n",
    "\n",
    "grouped_table"
   ]
  },
  {
   "cell_type": "code",
   "execution_count": 17,
   "metadata": {},
   "outputs": [
    {
     "data": {
      "text/html": [
       "<div>\n",
       "<style scoped>\n",
       "    .dataframe tbody tr th:only-of-type {\n",
       "        vertical-align: middle;\n",
       "    }\n",
       "\n",
       "    .dataframe tbody tr th {\n",
       "        vertical-align: top;\n",
       "    }\n",
       "\n",
       "    .dataframe thead th {\n",
       "        text-align: right;\n",
       "    }\n",
       "</style>\n",
       "<table border=\"1\" class=\"dataframe\">\n",
       "  <thead>\n",
       "    <tr style=\"text-align: right;\">\n",
       "      <th></th>\n",
       "      <th>retention_1_rate</th>\n",
       "      <th>retention_7_rate</th>\n",
       "    </tr>\n",
       "  </thead>\n",
       "  <tbody>\n",
       "    <tr>\n",
       "      <th>1</th>\n",
       "      <td>-0.005905</td>\n",
       "      <td>-0.008201</td>\n",
       "    </tr>\n",
       "  </tbody>\n",
       "</table>\n",
       "</div>"
      ],
      "text/plain": [
       "   retention_1_rate  retention_7_rate\n",
       "1         -0.005905         -0.008201"
      ]
     },
     "execution_count": 17,
     "metadata": {},
     "output_type": "execute_result"
    }
   ],
   "source": [
    "retention_rate_difference = grouped_table[['retention_1_rate','retention_7_rate']].diff().copy().reset_index(drop=True).dropna()\n",
    "retention_rate_difference"
   ]
  },
  {
   "attachments": {},
   "cell_type": "markdown",
   "metadata": {},
   "source": [
    "[EN] We see that the metrics of 1-day & 7-day retentions is reduced in test group over control group.\n",
    "In that case we have to check why it happens: is it the effect of introduction of the new feature or just an accident?\n",
    " \n",
    "__________________________________________________________________________________________\n",
    "\n",
    "[RU] Видим, что метрика ретеншн 1го дня и ретеншн 7го дня в тестовой группе снизилась по сравнению с контрольной группой. \n",
    "Мы должны проверить является ли это изменение результатом внедрения фичи, а именно расположение ворот на разных уровнях, или это стечение обстоятельств. "
   ]
  },
  {
   "cell_type": "code",
   "execution_count": 18,
   "metadata": {},
   "outputs": [],
   "source": [
    "from statsmodels.stats.proportion import proportions_ztest #Загрузим необходимый тест \\ import the necesserary test"
   ]
  },
  {
   "attachments": {},
   "cell_type": "markdown",
   "metadata": {},
   "source": [
    "[EN]\n",
    "Retention 1-day/7-day hypothesis \n",
    "\n",
    "H0: There is no significant difference between groups (Gate30=Gate40). p-value > 0.05\n",
    "\n",
    "H1: There is a significant difference between groups (Gate30<>Gate40). p-value <0 .05\n",
    "\n",
    "Confident level 95%\n",
    "__________________________________________________________________________________________\n",
    "\n",
    "[RU]\n",
    "Гипотезы для метрики Ретенш 1го/7го дня\n",
    "\n",
    "Н0: Нет статистически значимой разницы между результатами групп (Gate30=Gate40). p-value > 0.05\n",
    "\n",
    "Н1: Статистически значимая разница наблюдается. Gate30<>Gate40. p-value <0 .05\n",
    "\n",
    "Уровень уверенности 95%"
   ]
  },
  {
   "cell_type": "code",
   "execution_count": 19,
   "metadata": {},
   "outputs": [
    {
     "name": "stdout",
     "output_type": "stream",
     "text": [
      "0.07441 >= 0.05 \n",
      "There is no significant difference \n",
      "Нет статистически значимой разницы\n"
     ]
    }
   ],
   "source": [
    "_, chi_pvalue_r1 = proportions_ztest([grouped_table[grouped_table.index =='gate_30']['retention_1'].values,\n",
    "                                      grouped_table[grouped_table.index =='gate_40']['retention_1'].values],\n",
    "                  [grouped_table[grouped_table.index =='gate_30']['user_count'].values,\n",
    "                   grouped_table[grouped_table.index =='gate_40']['user_count'].values])\n",
    "\n",
    "confident_level = 0.95\n",
    "alpha = (1 - confident_level)\n",
    "\n",
    "if chi_pvalue_r1 >= alpha:\n",
    "    print('{0:0.5f} >= 0.05'.format(chi_pvalue_r1[0]), '\\nThere is no significant difference','\\nНет статистически значимой разницы')\n",
    "else:\n",
    "    print('{0:0.5f} < 0.05'.format(chi_pvalue_r1[0]), '\\nThere is significant difference','\\nCтатистически значимая разница есть')\n",
    "\n"
   ]
  },
  {
   "cell_type": "code",
   "execution_count": 20,
   "metadata": {},
   "outputs": [
    {
     "name": "stdout",
     "output_type": "stream",
     "text": [
      "0.00155 < 0.05 \n",
      "There is a significant difference \n",
      "Cтатистически значимая разница есть\n"
     ]
    }
   ],
   "source": [
    "_, chi_pvalue_r7 = proportions_ztest([grouped_table[grouped_table.index =='gate_30']['retention_7'].values,\n",
    "                                      grouped_table[grouped_table.index =='gate_40']['retention_7'].values],\n",
    "                  [grouped_table[grouped_table.index =='gate_30']['user_count'].values,\n",
    "                   grouped_table[grouped_table.index =='gate_40']['user_count'].values])\n",
    "\n",
    "\n",
    "if chi_pvalue_r7 >= alpha:\n",
    "    print('{0:0.5f} >= 0.05'.format(chi_pvalue_r7[0]), '\\nThere is no significant difference', '\\nНет статистически значимой разницы')\n",
    "else:\n",
    "    print('{0:0.5f} < 0.05'.format(chi_pvalue_r7[0]), '\\nThere is a significant difference','\\nCтатистически значимая разница есть')\n"
   ]
  },
  {
   "attachments": {},
   "cell_type": "markdown",
   "metadata": {},
   "source": [
    "[EN] Chi-squared test results:\n",
    "1. There is no significant difference in 1-day retention metric between A/B groups and we haven't the reasons to decline H0\n",
    "2. There is a significant difference in 1-day retention metric between A/B groups and we have the reasons to decline H0 and accept H1\n",
    "__________________________________________________________________________________________\n",
    "\n",
    "[RU] Критерий Хи-Квадрат показал следующие результаты:\n",
    "1. Изменения в метрике ретеншн 1го дня не являются статистическим значимыми и у нас нет оснований отклонить H0\n",
    "2. Изменения в метрике ретеншн 7го дня являются статистическим значимыми и у нас есть основания отклонить Н0 и принять Н1\n",
    "\n"
   ]
  },
  {
   "attachments": {},
   "cell_type": "markdown",
   "metadata": {},
   "source": [
    "[EN] The next step is a bootstrap of our metrics and the comparison of the results with the results of the previous tests.\n",
    "__________________________________________________________________________________________\n",
    "\n",
    "[RU] Далее проведем бутстреп интересующих нас метрик и сравним с результатом ранее проведенных тестов"
   ]
  },
  {
   "cell_type": "code",
   "execution_count": 21,
   "metadata": {},
   "outputs": [
    {
     "name": "stderr",
     "output_type": "stream",
     "text": [
      "  0%|          | 44/10000 [00:01<05:43, 29.00it/s]"
     ]
    },
    {
     "name": "stderr",
     "output_type": "stream",
     "text": [
      "100%|██████████| 10000/10000 [04:03<00:00, 41.02it/s]\n"
     ]
    }
   ],
   "source": [
    "boot_data_1day_retention = [] # Словари для хранения результатов итераций бутстрепа / list for collecting bootstrap results\n",
    "boot_data_7day_retention = [] \n",
    "\n",
    "\n",
    "population_size = max([len(table[table['version']=='gate_30']), len(table[table['version']=='gate_40'])]) \n",
    "#одинаковый размер A B групп для бутстрэпа, чтобы сохранить дисперсию / equal size A B groups for bootstraping \n",
    "\n",
    "for i in tqdm(range(10000)): #number of iterations\n",
    "\n",
    "    sample_a = table[table['version']=='gate_30'][['retention_1','retention_7']]\\\n",
    "        .sample(population_size, replace=True).reset_index() # Sample control group\n",
    "    \n",
    "    sample_b = table[table['version']=='gate_40'][['retention_1','retention_7']]\\\n",
    "        .sample(population_size, replace=True).reset_index() # Sample test group\n",
    "    \n",
    "\n",
    "    boot_data_1day_retention.append(sample_a['retention_1'].mean()-sample_b['retention_1'].mean())\n",
    "    boot_data_7day_retention.append(sample_a['retention_7'].mean()-sample_b['retention_7'].mean())\n",
    "\n",
    "\n",
    "pd_boot_data_1dr = pd.DataFrame(boot_data_1day_retention)\n",
    "pd_boot_data_7dr = pd.DataFrame(boot_data_7day_retention)\n",
    "\n"
   ]
  },
  {
   "cell_type": "code",
   "execution_count": 22,
   "metadata": {},
   "outputs": [],
   "source": [
    "\n",
    "def normal_ci(bootstrap_data, pe, cl): #функция определения границ нормального ДИ / ci limit-define function \n",
    "    z = stats.norm.ppf(1 - cl/ 2)\n",
    "    se = np.std(bootstrap_data)\n",
    "    left_norm_ci, right_norm_ci = pe - z * se, pe + z * se\n",
    "    return left_norm_ci, right_norm_ci"
   ]
  },
  {
   "attachments": {},
   "cell_type": "markdown",
   "metadata": {},
   "source": [
    "[EN] H0: There is no significant difference between the compared groups (0 belongs to CI). \n",
    "H1:  There is a significant difference between the compared groups (0 belongs to CI).\n",
    "__________________________________________________________________________________________\n",
    "[RU] Н0: Различия между сравниваемыми группа не статистически значимые (0 в пределах ДИ)\n",
    "Н1: Различия между сравниваемыми группа статистически значимые"
   ]
  },
  {
   "cell_type": "code",
   "execution_count": 23,
   "metadata": {},
   "outputs": [
    {
     "data": {
      "image/png": "[encoded data removed]",
      "text/plain": [
       "<Figure size 640x480 with 1 Axes>"
      ]
     },
     "metadata": {},
     "output_type": "display_data"
    }
   ],
   "source": [
    "plt.rcParams.update(plt.rcParamsDefault)\n",
    "pd_boot_data_1dr.hist(bins=50)\n",
    "\n",
    "plt.vlines([normal_ci(pd_boot_data_1dr, pd_boot_data_1dr.mean(), 0.05)], ymax=600 ,ymin=0, linestyles='--', colors='red') #Построим 95% нормальный ДИ\n",
    "plt.title('Normal confident interval for 1-day retention')\n",
    "plt.show()"
   ]
  },
  {
   "cell_type": "code",
   "execution_count": 24,
   "metadata": {},
   "outputs": [],
   "source": [
    "def get_p_value_from_normal(data): # Функция определения p-value исходя из нормального распределения / \n",
    "    a1 = stats.norm.cdf(x=0, loc= data.mean(), scale = np.std(data))\n",
    "    b1 = stats.norm.cdf(x=0, loc= -data.mean(), scale = np.std(data))\n",
    "    p_value = min(a1,b1) * 2\n",
    "    return p_value\n",
    "\n"
   ]
  },
  {
   "cell_type": "code",
   "execution_count": 25,
   "metadata": {},
   "outputs": [
    {
     "name": "stdout",
     "output_type": "stream",
     "text": [
      "0.0676894453454656\n"
     ]
    }
   ],
   "source": [
    "print(*get_p_value_from_normal(pd_boot_data_1dr))"
   ]
  },
  {
   "attachments": {},
   "cell_type": "markdown",
   "metadata": {},
   "source": [
    "[EN] We see in the plot that 0 belongs to the normal confident interval with confident level 95%. This case means that there is no significant difference between the compared groups (1-day retention). It's important to mark that the p-value which we get by the bootstrap method is practically equal to the p-value by Chi-square.\n",
    "__________________________________________________________________________________________\n",
    "\n",
    "[RU] Построив нормальный доверительный интервал (ДИ) по среднему значению с уровнем уверенности 95%, видим, что ДИ включает в себя 0 значение, следовательно, статистически значимых различий между средними значениями сравниваемых групп не наблюдается (Метрика ретеншн 1го дня). Важно отметить, что значения p-уровня значимости для данных метрики ретешн 1-го дня использовании хи-квадрата и метода bootstrap близки."
   ]
  },
  {
   "cell_type": "code",
   "execution_count": 26,
   "metadata": {},
   "outputs": [
    {
     "data": {
      "image/png": "[encoded data removed]",
      "text/plain": [
       "<Figure size 640x480 with 1 Axes>"
      ]
     },
     "metadata": {},
     "output_type": "display_data"
    }
   ],
   "source": [
    "pd_boot_data_7dr.hist(bins=50)\n",
    "\n",
    "plt.vlines([normal_ci(pd_boot_data_7dr, pd_boot_data_7dr.mean(),0.05)], ymax=600 ,ymin=0, linestyles='--', colors='red') #Построим 95% ДИ (красный цвет) /\n",
    "\n",
    "plt.vlines([normal_ci(pd_boot_data_7dr, pd_boot_data_7dr.mean(),0.01)], ymax=600 ,ymin=0, linestyles='--', colors='green') #Построим 99% ДИ (зеленый цвет) / \n",
    "\n",
    "plt.title('Confident interval for 7-day retention')\n",
    "plt.show()"
   ]
  },
  {
   "cell_type": "code",
   "execution_count": 27,
   "metadata": {},
   "outputs": [
    {
     "name": "stdout",
     "output_type": "stream",
     "text": [
      "0.0015956665612162448\n"
     ]
    }
   ],
   "source": [
    "print(*get_p_value_from_normal(pd_boot_data_7dr))"
   ]
  },
  {
   "attachments": {},
   "cell_type": "markdown",
   "metadata": {},
   "source": [
    "[EN] We see in the plot that 0 doesn't belong to the normal confident interval with confident level 95% (Also it doesn't belong to the normal ci with confident level 99%). This case means that there is a significant difference between the compared groups (1-day retention).\n",
    "It's important to mark that the p-value which we get by the bootstrap method is practically equal to the p-value by Chi-square.\n",
    "__________________________________________________________________________________________\n",
    "\n",
    "[RU] Построив нормальный доверительный интервал (ДИ) по среднему значению с уровнем уверенности 95% и более высоким уровнем уверенности в 99%, видим, что ДИ не включает в себя 0 значение, следовательно, наблюдаются статистически значимые различия между сравниваемыми группами (Метрика ретеншн 7-го дня)\n",
    "Важно отметить, что значения p-уровня значимости для данных метрики ретешн 7-го дня использовании хи-квадрата и метода bootstrap близки."
   ]
  },
  {
   "attachments": {},
   "cell_type": "markdown",
   "metadata": {},
   "source": [
    "[EN] Let's explore the secondary metric - the sum of played gamerounds for 14 days after installing.\n",
    "The values of this metric are numerical independent data. So, we should answer 2 quetions for better understanding which test we have to use:\n",
    "1. Is a distribution of sample means normal?\n",
    "2. Is there a homogeneity variance between the comparing groups?\n",
    "__________________________________________________________________________________________\n",
    "\n",
    "[RU] Изучим вторичную метрику, а именно сумму сыгранных раундов пользователем за 14 дней с момента входа.\n",
    "Количество сыгранных раундов - это количественные независимые наблюдения. Для выбора критерия сравнения исследуемых групп необходимо ответить на 2 вопроса:\n",
    "1. Наблюдения выборочных средних распределены нормально?\n",
    "2. Наблюдается ли гомогенность дисперсий?\n"
   ]
  },
  {
   "cell_type": "code",
   "execution_count": 28,
   "metadata": {},
   "outputs": [
    {
     "data": {
      "text/html": [
       "<div>\n",
       "<style scoped>\n",
       "    .dataframe tbody tr th:only-of-type {\n",
       "        vertical-align: middle;\n",
       "    }\n",
       "\n",
       "    .dataframe tbody tr th {\n",
       "        vertical-align: top;\n",
       "    }\n",
       "\n",
       "    .dataframe thead tr th {\n",
       "        text-align: left;\n",
       "    }\n",
       "\n",
       "    .dataframe thead tr:last-of-type th {\n",
       "        text-align: right;\n",
       "    }\n",
       "</style>\n",
       "<table border=\"1\" class=\"dataframe\">\n",
       "  <thead>\n",
       "    <tr>\n",
       "      <th></th>\n",
       "      <th colspan=\"2\" halign=\"left\">sum_gamerounds</th>\n",
       "    </tr>\n",
       "    <tr>\n",
       "      <th></th>\n",
       "      <th>mean</th>\n",
       "      <th>median</th>\n",
       "    </tr>\n",
       "    <tr>\n",
       "      <th>version</th>\n",
       "      <th></th>\n",
       "      <th></th>\n",
       "    </tr>\n",
       "  </thead>\n",
       "  <tbody>\n",
       "    <tr>\n",
       "      <th>gate_30</th>\n",
       "      <td>52.456264</td>\n",
       "      <td>17.0</td>\n",
       "    </tr>\n",
       "    <tr>\n",
       "      <th>gate_40</th>\n",
       "      <td>51.298776</td>\n",
       "      <td>16.0</td>\n",
       "    </tr>\n",
       "  </tbody>\n",
       "</table>\n",
       "</div>"
      ],
      "text/plain": [
       "        sum_gamerounds       \n",
       "                  mean median\n",
       "version                      \n",
       "gate_30      52.456264   17.0\n",
       "gate_40      51.298776   16.0"
      ]
     },
     "execution_count": 28,
     "metadata": {},
     "output_type": "execute_result"
    }
   ],
   "source": [
    "grouped_sum_gamerounds_table = table.groupby('version').agg({'sum_gamerounds':['mean', 'median']})\n",
    "grouped_sum_gamerounds_table"
   ]
  },
  {
   "cell_type": "code",
   "execution_count": 29,
   "metadata": {},
   "outputs": [],
   "source": [
    "table_gate30 = table.query('version == \"gate_30\"').copy()\n",
    "table_gate40 = table.query('version == \"gate_40\"').copy()"
   ]
  },
  {
   "cell_type": "code",
   "execution_count": 30,
   "metadata": {},
   "outputs": [
    {
     "data": {
      "image/png": "[encoded data removed]",
      "text/plain": [
       "<Figure size 640x480 with 1 Axes>"
      ]
     },
     "metadata": {},
     "output_type": "display_data"
    }
   ],
   "source": [
    "plt.boxplot([table_gate30.sum_gamerounds,table_gate40.sum_gamerounds], autorange=True, showfliers=False) \n",
    "\n",
    "#отсекаем быбросы, чтобы \"ящик с усами\" был более читабелен / cut the outliers for readable boxplot\n",
    "\n",
    "plt.title('Boxplot of gamerounds sum')\n",
    "plt.xlabel('Version of App')\n",
    "plt.show()\n"
   ]
  },
  {
   "attachments": {},
   "cell_type": "markdown",
   "metadata": {},
   "source": [
    "[EN] Let's have a look at a boxplot without outliers, we see that the distribution of metric values is not normal. We see that distribution without outliers in 2 groups are praactically identical. But this conclusion doesn't answer the question about the distribution of sample means.\n",
    "__________________________________________________________________________________________\n",
    "\n",
    "[RU] Исходя из графика boxplot, в котором мы отсекли выбросы, можем сделать умозаключение, что распределение значений метрики сыгранных раундов отлично от нормального. Видим, что без выбросов распределения значений по двум группам практически идентичны. Но это умозаключение не отвечает на вопрос о распределении выборочных средних."
   ]
  },
  {
   "attachments": {},
   "cell_type": "markdown",
   "metadata": {},
   "source": [
    "[EN] Then we check how the observation on sample means are distributed with help of bootstrap with the number of observations equal to the initial number of the observaations in each group.\n",
    "__________________________________________________________________________________________\n",
    "[RU] Далее мы проверим как распределены наблюдения выборочных средних с помощью bootstrap при количестве наблюдений равных исходному количеству наблюдений в каждой группе. "
   ]
  },
  {
   "cell_type": "code",
   "execution_count": 31,
   "metadata": {},
   "outputs": [
    {
     "name": "stderr",
     "output_type": "stream",
     "text": [
      "  0%|          | 3/10000 [00:00<07:29, 22.22it/s]"
     ]
    },
    {
     "name": "stderr",
     "output_type": "stream",
     "text": [
      "100%|██████████| 10000/10000 [03:48<00:00, 43.83it/s]\n"
     ]
    }
   ],
   "source": [
    "result_a = []\n",
    "result_b = []\n",
    "\n",
    "for i in tqdm(range(10000)): #number of iterations\n",
    "\n",
    "    sample_a = table[table['version']=='gate_30'][['sum_gamerounds']].sample(frac=1, replace=True).reset_index() # Sample control group\n",
    "    sample_b = table[table['version']=='gate_40'][['sum_gamerounds']].sample(frac=1, replace=True).reset_index() # Sample test group\n",
    "    \n",
    "\n",
    "    result_a.append(sample_a['sum_gamerounds'].mean())\n",
    "    result_b.append(sample_b['sum_gamerounds'].mean())\n",
    "\n",
    "    \n",
    "    "
   ]
  },
  {
   "cell_type": "code",
   "execution_count": 32,
   "metadata": {},
   "outputs": [
    {
     "data": {
      "image/png": "[encoded data removed]",
      "text/plain": [
       "<Figure size 640x480 with 1 Axes>"
      ]
     },
     "metadata": {},
     "output_type": "display_data"
    }
   ],
   "source": [
    "result_a = pd.Series(result_a)\n",
    "result_a.hist(bins=50)\n",
    "plt.show()"
   ]
  },
  {
   "attachments": {},
   "cell_type": "markdown",
   "metadata": {},
   "source": [
    "[EN] Let's have a look at a quantile-quantile plot (qqplot) of the sum of played gamerounds in the test and control groups.\n",
    "__________________________________________________________________________________________\n",
    "\n",
    "[RU] Посмотрим как распределяются фактические и теоретические значения метрики сумма сыгранных раундов в тестовой и контрольной группы на графике qqplot."
   ]
  },
  {
   "cell_type": "code",
   "execution_count": 33,
   "metadata": {},
   "outputs": [
    {
     "data": {
      "image/png": "[encoded data removed]",
      "text/plain": [
       "<Figure size 640x480 with 1 Axes>"
      ]
     },
     "metadata": {},
     "output_type": "display_data"
    }
   ],
   "source": [
    "\n",
    "stats.probplot(result_a, dist='norm', plot=plt)\n",
    "plt.show()"
   ]
  },
  {
   "attachments": {},
   "cell_type": "markdown",
   "metadata": {},
   "source": [
    "[EN] The distribution of values is not normal.\n",
    "\n",
    "Let's use Shapiro-Wilka test for checking normality of distribution values.\n",
    "\n",
    "H0: The values are taken from normal distribution. alpha/p-value > 0.05\n",
    "\n",
    "H1: The values are not taken from normal distribution. alpha/p-value < 0.05\n",
    "\n",
    "__________________________________________________________________________________________\n",
    "\n",
    "[RU] Положение данных на графике qqplot также показало, что распределение значений в исследуемой метрике отлично от нормального. \n",
    "\n",
    "Для достоверности исследования проверим данные на нормальность с помощью теста Шапиро-Уилка. \n",
    "\n",
    "Н0: Значения взяты из нормального распределения. alpha/p-value > 0.05\n",
    "\n",
    "Н1: Значения взяты из распределения отличного от нормального. alpha/p-value < 0.05"
   ]
  },
  {
   "cell_type": "code",
   "execution_count": 34,
   "metadata": {},
   "outputs": [
    {
     "name": "stderr",
     "output_type": "stream",
     "text": [
      "c:\\Users\\Slava\\miniconda3\\lib\\site-packages\\scipy\\stats\\_morestats.py:1800: UserWarning: p-value may not be accurate for N > 5000.\n",
      "  warnings.warn(\"p-value may not be accurate for N > 5000.\")\n"
     ]
    },
    {
     "data": {
      "text/plain": [
       "ShapiroResult(statistic=0.9670603275299072, pvalue=9.710998357770982e-43)"
      ]
     },
     "execution_count": 34,
     "metadata": {},
     "output_type": "execute_result"
    }
   ],
   "source": [
    "stats.shapiro(result_a)"
   ]
  },
  {
   "attachments": {},
   "cell_type": "markdown",
   "metadata": {},
   "source": [
    "[EN] As a result, we have the reason to decline H0. Принимаем H1.\n",
    "__________________________________________________________________________________________\n",
    "[RU] По результатам теста у нас есть основания отклонить Н0, о том, что выборки взяты из нормального распределения."
   ]
  },
  {
   "attachments": {},
   "cell_type": "markdown",
   "metadata": {},
   "source": [
    "[EN] Let's repeat this steps for the test group.\n",
    "__________________________________________________________________________________________\n",
    "\n",
    "[RU] Повторим эти шаги для тестовой группы"
   ]
  },
  {
   "cell_type": "code",
   "execution_count": 35,
   "metadata": {},
   "outputs": [
    {
     "data": {
      "image/png": "[encoded data removed]",
      "text/plain": [
       "<Figure size 640x480 with 1 Axes>"
      ]
     },
     "metadata": {},
     "output_type": "display_data"
    }
   ],
   "source": [
    "plt.rcParams.update(plt.rcParamsDefault)\n",
    "result_b=pd.Series(result_b)\n",
    "result_b.hist(bins=50)\n",
    "plt.show()"
   ]
  },
  {
   "cell_type": "code",
   "execution_count": 36,
   "metadata": {},
   "outputs": [
    {
     "data": {
      "image/png": "[encoded data removed]",
      "text/plain": [
       "<Figure size 640x480 with 1 Axes>"
      ]
     },
     "metadata": {},
     "output_type": "display_data"
    }
   ],
   "source": [
    "stats.probplot(result_b, dist='norm', plot=plt)\n",
    "plt.show()"
   ]
  },
  {
   "cell_type": "code",
   "execution_count": 37,
   "metadata": {},
   "outputs": [
    {
     "name": "stderr",
     "output_type": "stream",
     "text": [
      "c:\\Users\\Slava\\miniconda3\\lib\\site-packages\\scipy\\stats\\_morestats.py:1800: UserWarning: p-value may not be accurate for N > 5000.\n",
      "  warnings.warn(\"p-value may not be accurate for N > 5000.\")\n"
     ]
    },
    {
     "data": {
      "text/plain": [
       "ShapiroResult(statistic=0.9995619654655457, pvalue=0.018422456458210945)"
      ]
     },
     "execution_count": 37,
     "metadata": {},
     "output_type": "execute_result"
    }
   ],
   "source": [
    "stats.shapiro(result_b)"
   ]
  },
  {
   "attachments": {},
   "cell_type": "markdown",
   "metadata": {},
   "source": [
    "[EN] As a result, we haven't the reason to decline H0.\n",
    "__________________________________________________________________________________________\n",
    "[RU] По результатам теста у нас нет основания отклонить Н0, о том, что выборка взята из нормального распределения. \n"
   ]
  },
  {
   "attachments": {},
   "cell_type": "markdown",
   "metadata": {},
   "source": [
    "[EN] As aa result of the analysis we see that the distribution of the sample means for control group isn't normal while the distribution of the sample means for test group is normal. Considering the Central limit theorem, the initial number of observartions in control group is not enough for the normal sample means distribution. When increasing the number of observations for control group, the distribution of the sample means approximates to normal distribution. It seems that the initial number of observations is to several times more in order to the distribution of the sample means for control group comes to normal. But it increases the time of A/B test verification then. \n",
    "__________________________________________________________________________________________\n",
    "[RU] Исходя из анализа распределения выборочных средних, мы видим, что распределение выборочных средних для контрольной группы отлично от нормального, в то время как, распределение выборочных средних для тестовой группы распределено нормально. Учитывая ЦПТ, изначального количества наблюдений в контрольной группе недостаточно, чтобы распределение выборочных средних пришло к нормальному. При увеличении количества наблюдений для контрольной группы распределение выборочных средних приблизится к нормальному распределению. Скорее всего, потребуется увеличение изначального количества наблюдений в контрольной выборке в несколько раз или несколько десятков раз, чтобы распределение выборочных средних контрольной группы свелось к нормальному, что в свою очередь увеличит время проверки результатов A/B теста."
   ]
  },
  {
   "attachments": {},
   "cell_type": "markdown",
   "metadata": {},
   "source": [
    "[EN] According to the results of the analysis, we see that the values without outliers are obtained from one distribution. But under checking sample means we see that the sample means of test group are distributed normally, but in the control group they are not normal. Probably, it's due to outliers. \n",
    "Therefore, we will check:\n",
    "1. If the values are taken from one distribution.\n",
    "2. If there are abnomal values which could influence on group sample means.\n",
    "__________________________________________________________________________________________\n",
    "[RU] По результатам анализа мы видим, что данные без выбросов взяты из одного распределения, но при проверке выборочных средних мы видим, что выборочные средние тестовой группы распределены нормально, а в контрольной распределены ненормально. Скорее всего на это влияют выбросы. Исходя из этого далее проверим:\n",
    "1. Из одного ли распределения взяты данные\n",
    "2. Посмотрим имеются ли аномальные значения, которые могут так сильно влиять на выборочные средние групп."
   ]
  },
  {
   "attachments": {},
   "cell_type": "markdown",
   "metadata": {},
   "source": [
    "[EN] We take the already prepared script to check which distributions our distribution belongs.\n",
    "__________________________________________________________________________________________\n",
    "[RU] Для проверки распределений, из которых взяты наблюдения исследуемых групп, возьмем готовый скрипт."
   ]
  },
  {
   "cell_type": "code",
   "execution_count": 38,
   "metadata": {},
   "outputs": [
    {
     "name": "stdout",
     "output_type": "stream",
     "text": [
      "  1 / 105: ksone\n",
      "  2 / 105: kstwo\n",
      "  3 / 105: kstwobign\n",
      "  4 / 105: norm\n",
      "  5 / 105: alpha\n",
      "  6 / 105: anglit\n",
      "  7 / 105: arcsine\n",
      "  8 / 105: beta\n",
      "  9 / 105: betaprime\n",
      " 10 / 105: bradford\n",
      " 11 / 105: burr\n",
      " 12 / 105: burr12\n",
      " 13 / 105: fisk\n",
      " 14 / 105: cauchy\n",
      " 15 / 105: chi\n",
      " 16 / 105: chi2\n",
      " 17 / 105: cosine\n",
      " 18 / 105: dgamma\n",
      " 19 / 105: dweibull\n",
      " 20 / 105: expon\n",
      " 21 / 105: exponnorm\n",
      " 22 / 105: exponweib\n",
      " 23 / 105: exponpow\n",
      " 24 / 105: fatiguelife\n",
      " 25 / 105: foldcauchy\n",
      " 26 / 105: f\n",
      " 27 / 105: foldnorm\n",
      " 28 / 105: weibull_min\n",
      " 29 / 105: truncweibull_min\n",
      " 30 / 105: weibull_max\n",
      " 31 / 105: genlogistic\n",
      " 32 / 105: genpareto\n",
      " 33 / 105: genexpon\n",
      " 34 / 105: genextreme\n",
      " 35 / 105: gamma\n",
      " 36 / 105: erlang\n",
      " 37 / 105: gengamma\n",
      " 38 / 105: genhalflogistic\n",
      " 39 / 105: genhyperbolic\n",
      " 40 / 105: gompertz\n",
      " 41 / 105: gumbel_r\n",
      " 42 / 105: gumbel_l\n",
      " 43 / 105: halfcauchy\n",
      " 44 / 105: halflogistic\n",
      " 45 / 105: halfnorm\n",
      " 46 / 105: hypsecant\n",
      " 47 / 105: gausshyper\n",
      " 48 / 105: invgamma\n",
      " 49 / 105: invgauss\n",
      " 50 / 105: geninvgauss\n",
      " 51 / 105: norminvgauss\n",
      " 52 / 105: invweibull\n",
      " 53 / 105: johnsonsb\n",
      " 54 / 105: johnsonsu\n",
      " 55 / 105: laplace\n",
      " 56 / 105: laplace_asymmetric\n",
      " 57 / 105: levy\n",
      " 58 / 105: levy_l\n",
      " 59 / 105: logistic\n",
      " 60 / 105: loggamma\n",
      " 61 / 105: loglaplace\n",
      " 62 / 105: lognorm\n",
      " 63 / 105: gibrat\n",
      " 64 / 105: gilbrat\n",
      " 65 / 105: maxwell\n",
      " 66 / 105: mielke\n",
      " 67 / 105: kappa4\n",
      " 68 / 105: kappa3\n",
      " 69 / 105: moyal\n",
      " 70 / 105: nakagami\n",
      " 71 / 105: ncx2\n",
      " 72 / 105: ncf\n",
      " 73 / 105: t\n",
      " 74 / 105: nct\n",
      " 75 / 105: pareto\n",
      " 76 / 105: lomax\n",
      " 77 / 105: pearson3\n",
      " 78 / 105: powerlaw\n",
      " 79 / 105: powerlognorm\n",
      " 80 / 105: powernorm\n",
      " 81 / 105: rdist\n",
      " 82 / 105: rayleigh\n",
      " 83 / 105: loguniform\n",
      " 84 / 105: reciprocal\n",
      " 85 / 105: rice\n",
      " 86 / 105: recipinvgauss\n",
      " 87 / 105: semicircular\n",
      " 88 / 105: skewcauchy\n",
      " 89 / 105: skewnorm\n",
      " 90 / 105: trapezoid\n",
      " 91 / 105: trapz\n",
      " 92 / 105: triang\n",
      " 93 / 105: truncexpon\n",
      " 94 / 105: truncnorm\n",
      " 95 / 105: tukeylambda\n",
      " 96 / 105: uniform\n",
      " 97 / 105: vonmises\n",
      " 98 / 105: vonmises_line\n",
      " 99 / 105: wald\n",
      "100 / 105: wrapcauchy\n",
      "101 / 105: gennorm\n",
      "102 / 105: halfgennorm\n",
      "103 / 105: crystalball\n",
      "104 / 105: argus\n"
     ]
    },
    {
     "data": {
      "text/plain": [
       "Text(0, 0.5, 'Frequency')"
      ]
     },
     "execution_count": 38,
     "metadata": {},
     "output_type": "execute_result"
    }
   ],
   "source": [
    "import warnings\n",
    "import numpy as np\n",
    "import pandas as pd\n",
    "import scipy.stats as st\n",
    "import statsmodels.api as sm\n",
    "from scipy.stats._continuous_distns import _distn_names\n",
    "import matplotlib\n",
    "import matplotlib.pyplot as plt\n",
    "\n",
    "matplotlib.rcParams['figure.figsize'] = (16.0, 12.0)\n",
    "matplotlib.style.use('ggplot')\n",
    "\n",
    "# Create models from data\n",
    "def best_fit_distribution(data, bins=200, ax=None):\n",
    "    \"\"\"Model data by finding best fit distribution to data\"\"\"\n",
    "    # Get histogram of original data\n",
    "    y, x = np.histogram(data, bins=bins, density=True)\n",
    "    x = (x + np.roll(x, -1))[:-1] / 2.0\n",
    "\n",
    "    # Best holders\n",
    "    best_distributions = []\n",
    "\n",
    "    # Estimate distribution parameters from data\n",
    "    for ii, distribution in enumerate([d for d in _distn_names if not d in ['levy_stable', 'studentized_range']]):\n",
    "\n",
    "        print(\"{:>3} / {:<3}: {}\".format( ii+1, len(_distn_names), distribution ))\n",
    "\n",
    "        distribution = getattr(st, distribution)\n",
    "\n",
    "        # Try to fit the distribution\n",
    "        try:\n",
    "            # Ignore warnings from data that can't be fit\n",
    "            with warnings.catch_warnings():\n",
    "                warnings.filterwarnings('ignore')\n",
    "\n",
    "                # fit dist to data\n",
    "                params = distribution.fit(data)\n",
    "\n",
    "                # Separate parts of parameters\n",
    "                arg = params[:-2]\n",
    "                loc = params[-2]\n",
    "                scale = params[-1]\n",
    "\n",
    "                # Calculate fitted PDF and error with fit in distribution\n",
    "                pdf = distribution.pdf(x, loc=loc, scale=scale, *arg)\n",
    "                sse = np.sum(np.power(y - pdf, 2.0))\n",
    "\n",
    "                # if axis pass in add to plot\n",
    "                try:\n",
    "                    if ax:\n",
    "                        pd.Series(pdf, x).plot(ax=ax)\n",
    "                    end\n",
    "                except Exception:\n",
    "                    pass\n",
    "\n",
    "                # identify if this distribution is better\n",
    "                best_distributions.append((distribution, params, sse))\n",
    "\n",
    "        except Exception:\n",
    "            pass\n",
    "\n",
    "\n",
    "    return sorted(best_distributions, key=lambda x:x[2])\n",
    "\n",
    "def make_pdf(dist, params, size=10000):\n",
    "    \"\"\"Generate distributions's Probability Distribution Function \"\"\"\n",
    "\n",
    "    # Separate parts of parameters\n",
    "    arg = params[:-2]\n",
    "    loc = params[-2]\n",
    "    scale = params[-1]\n",
    "\n",
    "    # Get sane start and end points of distribution\n",
    "    start = dist.ppf(0.01, *arg, loc=loc, scale=scale) if arg else dist.ppf(0.01, loc=loc, scale=scale)\n",
    "    end = dist.ppf(0.99, *arg, loc=loc, scale=scale) if arg else dist.ppf(0.99, loc=loc, scale=scale)\n",
    "\n",
    "    # Build PDF and turn into pandas Series\n",
    "    x = np.linspace(start, end, size)\n",
    "    y = dist.pdf(x, loc=loc, scale=scale, *arg)\n",
    "    pdf = pd.Series(y, x)\n",
    "\n",
    "    return pdf\n",
    "\n",
    "# Load data from statsmodels datasets\n",
    "data = table_gate30.sum_gamerounds\n",
    "\n",
    "# Plot for comparison\n",
    "plt.figure(figsize=(12,8))\n",
    "ax = data.plot(kind='hist', bins=50, density=True, alpha=0.5, color=list(matplotlib.rcParams['axes.prop_cycle'])[1]['color'])\n",
    "\n",
    "# Save plot limits\n",
    "dataYLim = ax.get_ylim()\n",
    "\n",
    "# Find best fit distribution\n",
    "best_distibutions = best_fit_distribution(data, 200, ax)\n",
    "best_dist = best_distibutions[0]\n",
    "\n",
    "# Update plots\n",
    "ax.set_ylim(dataYLim)\n",
    "ax.set_title(u'El Niño sea temp.\\n All Fitted Distributions')\n",
    "ax.set_xlabel(u'Temp (°C)')\n",
    "ax.set_ylabel('Frequency')\n",
    "\n",
    "# Make PDF with best params\n",
    "pdf = make_pdf(best_dist[0], best_dist[1])\n",
    "\n",
    "# Display\n",
    "plt.figure(figsize=(12,8))\n",
    "ax = pdf.plot(lw=2, label='PDF', legend=True)\n",
    "data.plot(kind='hist', bins=50, density=True, alpha=0.5, label='Data', legend=True, ax=ax)\n",
    "\n",
    "param_names = (best_dist[0].shapes + ', loc, scale').split(', ') if best_dist[0].shapes else ['loc', 'scale']\n",
    "param_str = ', '.join(['{}={:0.2f}'.format(k,v) for k,v in zip(param_names, best_dist[1])])\n",
    "dist_str = '{}({})'.format(best_dist[0].name, param_str)\n",
    "\n",
    "ax.set_title(u'El Niño sea temp. with best fit distribution \\n' + dist_str)\n",
    "ax.set_xlabel(u'Temp. (°C)')\n",
    "ax.set_ylabel('Frequency')"
   ]
  },
  {
   "cell_type": "code",
   "execution_count": 39,
   "metadata": {},
   "outputs": [],
   "source": [
    "best_dis_for_control =pd.DataFrame(best_distibutions,columns=['dist', 'val', 'rat']).sort_values('rat')\n",
    "\n"
   ]
  },
  {
   "cell_type": "code",
   "execution_count": 40,
   "metadata": {},
   "outputs": [
    {
     "data": {
      "text/html": [
       "<div>\n",
       "<style scoped>\n",
       "    .dataframe tbody tr th:only-of-type {\n",
       "        vertical-align: middle;\n",
       "    }\n",
       "\n",
       "    .dataframe tbody tr th {\n",
       "        vertical-align: top;\n",
       "    }\n",
       "\n",
       "    .dataframe thead th {\n",
       "        text-align: right;\n",
       "    }\n",
       "</style>\n",
       "<table border=\"1\" class=\"dataframe\">\n",
       "  <thead>\n",
       "    <tr style=\"text-align: right;\">\n",
       "      <th></th>\n",
       "      <th>dist</th>\n",
       "      <th>val</th>\n",
       "      <th>rat</th>\n",
       "    </tr>\n",
       "  </thead>\n",
       "  <tbody>\n",
       "    <tr>\n",
       "      <th>0</th>\n",
       "      <td>&lt;scipy.stats._continuous_distns.foldnorm_gen o...</td>\n",
       "      <td>(0.20789773036076364, -1.777202582020098e-07, ...</td>\n",
       "      <td>9.539937e-09</td>\n",
       "    </tr>\n",
       "    <tr>\n",
       "      <th>1</th>\n",
       "      <td>&lt;scipy.stats._continuous_distns.skew_norm_gen ...</td>\n",
       "      <td>(9697152.447798278, -5.8412797883504935e-05, 1...</td>\n",
       "      <td>1.003611e-08</td>\n",
       "    </tr>\n",
       "    <tr>\n",
       "      <th>2</th>\n",
       "      <td>&lt;scipy.stats._continuous_distns.rice_gen objec...</td>\n",
       "      <td>(0.0017531016621202774, -78.49172300780538, 11...</td>\n",
       "      <td>3.299896e-07</td>\n",
       "    </tr>\n",
       "    <tr>\n",
       "      <th>3</th>\n",
       "      <td>&lt;scipy.stats._continuous_distns.rdist_gen obje...</td>\n",
       "      <td>(5865.342712253445, 52.43090445595158, 7945.06...</td>\n",
       "      <td>6.920712e-07</td>\n",
       "    </tr>\n",
       "    <tr>\n",
       "      <th>4</th>\n",
       "      <td>&lt;scipy.stats._continuous_distns.vonmises_gen o...</td>\n",
       "      <td>(86.89644320283594, 49.75629421007986, 934.010...</td>\n",
       "      <td>7.119350e-07</td>\n",
       "    </tr>\n",
       "    <tr>\n",
       "      <th>5</th>\n",
       "      <td>&lt;scipy.stats._continuous_distns.kstwobign_gen ...</td>\n",
       "      <td>(-166.72646287073638, 263.5028728141886)</td>\n",
       "      <td>8.996620e-07</td>\n",
       "    </tr>\n",
       "    <tr>\n",
       "      <th>6</th>\n",
       "      <td>&lt;scipy.stats._continuous_distns.moyal_gen obje...</td>\n",
       "      <td>(20.45672056901742, 33.48872674957021)</td>\n",
       "      <td>1.922987e-06</td>\n",
       "    </tr>\n",
       "    <tr>\n",
       "      <th>7</th>\n",
       "      <td>&lt;scipy.stats._continuous_distns.truncnorm_gen ...</td>\n",
       "      <td>(0.008071171386168564, 190.46385927911257, -2....</td>\n",
       "      <td>2.200763e-06</td>\n",
       "    </tr>\n",
       "    <tr>\n",
       "      <th>8</th>\n",
       "      <td>&lt;scipy.stats._continuous_distns.halfnorm_gen o...</td>\n",
       "      <td>(-5.851127199388407e-10, 262.01830559264874)</td>\n",
       "      <td>2.231794e-06</td>\n",
       "    </tr>\n",
       "    <tr>\n",
       "      <th>9</th>\n",
       "      <td>&lt;scipy.stats._continuous_distns.hypsecant_gen ...</td>\n",
       "      <td>(32.2057900798592, 70.23770999133214)</td>\n",
       "      <td>2.488658e-06</td>\n",
       "    </tr>\n",
       "    <tr>\n",
       "      <th>10</th>\n",
       "      <td>&lt;scipy.stats._continuous_distns.halflogistic_g...</td>\n",
       "      <td>(-2.44927084268937e-10, 41.79584763628992)</td>\n",
       "      <td>2.728063e-06</td>\n",
       "    </tr>\n",
       "    <tr>\n",
       "      <th>11</th>\n",
       "      <td>&lt;scipy.stats._continuous_distns.rayleigh_gen o...</td>\n",
       "      <td>(-222.62998430401692, 266.0585382452335)</td>\n",
       "      <td>3.375460e-06</td>\n",
       "    </tr>\n",
       "    <tr>\n",
       "      <th>12</th>\n",
       "      <td>&lt;scipy.stats._continuous_distns.maxwell_gen ob...</td>\n",
       "      <td>(-333.3774828706431, 267.56278426334563)</td>\n",
       "      <td>3.587181e-06</td>\n",
       "    </tr>\n",
       "    <tr>\n",
       "      <th>13</th>\n",
       "      <td>&lt;scipy.stats._continuous_distns.tukeylambda_ge...</td>\n",
       "      <td>(0.002204686473169519, 182.02826878952501, 109...</td>\n",
       "      <td>3.978349e-06</td>\n",
       "    </tr>\n",
       "    <tr>\n",
       "      <th>14</th>\n",
       "      <td>&lt;scipy.stats._continuous_distns.logistic_gen o...</td>\n",
       "      <td>(32.347239957961236, 35.905129190431865)</td>\n",
       "      <td>4.038385e-06</td>\n",
       "    </tr>\n",
       "    <tr>\n",
       "      <th>15</th>\n",
       "      <td>&lt;scipy.stats._continuous_distns.genexpon_gen o...</td>\n",
       "      <td>(2.0782702657847407, 1.0693518963045593e-05, 2...</td>\n",
       "      <td>4.305634e-06</td>\n",
       "    </tr>\n",
       "    <tr>\n",
       "      <th>16</th>\n",
       "      <td>&lt;scipy.stats._continuous_distns.laplace_asymme...</td>\n",
       "      <td>(0.0014900276991529006, -3.751467888539176e-08...</td>\n",
       "      <td>4.307343e-06</td>\n",
       "    </tr>\n",
       "    <tr>\n",
       "      <th>17</th>\n",
       "      <td>&lt;scipy.stats._continuous_distns.expon_gen obje...</td>\n",
       "      <td>(0.0, 52.45626398210291)</td>\n",
       "      <td>4.309795e-06</td>\n",
       "    </tr>\n",
       "    <tr>\n",
       "      <th>18</th>\n",
       "      <td>&lt;scipy.stats._continuous_distns.exponnorm_gen ...</td>\n",
       "      <td>(2015.2864474171151, -0.07302315876707785, 0.0...</td>\n",
       "      <td>4.330651e-06</td>\n",
       "    </tr>\n",
       "    <tr>\n",
       "      <th>19</th>\n",
       "      <td>&lt;scipy.stats._continuous_distns.genlogistic_ge...</td>\n",
       "      <td>(2134.0920262501077, -281.09076798662556, 39.5...</td>\n",
       "      <td>4.403244e-06</td>\n",
       "    </tr>\n",
       "  </tbody>\n",
       "</table>\n",
       "</div>"
      ],
      "text/plain": [
       "                                                 dist  \\\n",
       "0   <scipy.stats._continuous_distns.foldnorm_gen o...   \n",
       "1   <scipy.stats._continuous_distns.skew_norm_gen ...   \n",
       "2   <scipy.stats._continuous_distns.rice_gen objec...   \n",
       "3   <scipy.stats._continuous_distns.rdist_gen obje...   \n",
       "4   <scipy.stats._continuous_distns.vonmises_gen o...   \n",
       "5   <scipy.stats._continuous_distns.kstwobign_gen ...   \n",
       "6   <scipy.stats._continuous_distns.moyal_gen obje...   \n",
       "7   <scipy.stats._continuous_distns.truncnorm_gen ...   \n",
       "8   <scipy.stats._continuous_distns.halfnorm_gen o...   \n",
       "9   <scipy.stats._continuous_distns.hypsecant_gen ...   \n",
       "10  <scipy.stats._continuous_distns.halflogistic_g...   \n",
       "11  <scipy.stats._continuous_distns.rayleigh_gen o...   \n",
       "12  <scipy.stats._continuous_distns.maxwell_gen ob...   \n",
       "13  <scipy.stats._continuous_distns.tukeylambda_ge...   \n",
       "14  <scipy.stats._continuous_distns.logistic_gen o...   \n",
       "15  <scipy.stats._continuous_distns.genexpon_gen o...   \n",
       "16  <scipy.stats._continuous_distns.laplace_asymme...   \n",
       "17  <scipy.stats._continuous_distns.expon_gen obje...   \n",
       "18  <scipy.stats._continuous_distns.exponnorm_gen ...   \n",
       "19  <scipy.stats._continuous_distns.genlogistic_ge...   \n",
       "\n",
       "                                                  val           rat  \n",
       "0   (0.20789773036076364, -1.777202582020098e-07, ...  9.539937e-09  \n",
       "1   (9697152.447798278, -5.8412797883504935e-05, 1...  1.003611e-08  \n",
       "2   (0.0017531016621202774, -78.49172300780538, 11...  3.299896e-07  \n",
       "3   (5865.342712253445, 52.43090445595158, 7945.06...  6.920712e-07  \n",
       "4   (86.89644320283594, 49.75629421007986, 934.010...  7.119350e-07  \n",
       "5            (-166.72646287073638, 263.5028728141886)  8.996620e-07  \n",
       "6              (20.45672056901742, 33.48872674957021)  1.922987e-06  \n",
       "7   (0.008071171386168564, 190.46385927911257, -2....  2.200763e-06  \n",
       "8        (-5.851127199388407e-10, 262.01830559264874)  2.231794e-06  \n",
       "9               (32.2057900798592, 70.23770999133214)  2.488658e-06  \n",
       "10         (-2.44927084268937e-10, 41.79584763628992)  2.728063e-06  \n",
       "11           (-222.62998430401692, 266.0585382452335)  3.375460e-06  \n",
       "12           (-333.3774828706431, 267.56278426334563)  3.587181e-06  \n",
       "13  (0.002204686473169519, 182.02826878952501, 109...  3.978349e-06  \n",
       "14           (32.347239957961236, 35.905129190431865)  4.038385e-06  \n",
       "15  (2.0782702657847407, 1.0693518963045593e-05, 2...  4.305634e-06  \n",
       "16  (0.0014900276991529006, -3.751467888539176e-08...  4.307343e-06  \n",
       "17                           (0.0, 52.45626398210291)  4.309795e-06  \n",
       "18  (2015.2864474171151, -0.07302315876707785, 0.0...  4.330651e-06  \n",
       "19  (2134.0920262501077, -281.09076798662556, 39.5...  4.403244e-06  "
      ]
     },
     "execution_count": 40,
     "metadata": {},
     "output_type": "execute_result"
    }
   ],
   "source": [
    "best_dis_for_control.head(20)"
   ]
  },
  {
   "cell_type": "code",
   "execution_count": 41,
   "metadata": {},
   "outputs": [],
   "source": [
    "plt.rcParams.update(plt.rcParamsDefault)"
   ]
  },
  {
   "cell_type": "code",
   "execution_count": 42,
   "metadata": {},
   "outputs": [
    {
     "data": {
      "text/plain": [
       "<scipy.stats._continuous_distns.foldnorm_gen at 0x24d90fc85b0>"
      ]
     },
     "execution_count": 42,
     "metadata": {},
     "output_type": "execute_result"
    }
   ],
   "source": [
    "best_dis_for_control['dist'][0]"
   ]
  },
  {
   "cell_type": "code",
   "execution_count": 43,
   "metadata": {},
   "outputs": [
    {
     "data": {
      "text/plain": [
       "(0.20789773036076364, -1.777202582020098e-07, 113.30150521311299)"
      ]
     },
     "execution_count": 43,
     "metadata": {},
     "output_type": "execute_result"
    }
   ],
   "source": [
    "best_dis_for_control['val'][0]"
   ]
  },
  {
   "cell_type": "code",
   "execution_count": 44,
   "metadata": {},
   "outputs": [
    {
     "name": "stdout",
     "output_type": "stream",
     "text": [
      "  1 / 105: ksone\n"
     ]
    },
    {
     "name": "stdout",
     "output_type": "stream",
     "text": [
      "  2 / 105: kstwo\n",
      "  3 / 105: kstwobign\n",
      "  4 / 105: norm\n",
      "  5 / 105: alpha\n",
      "  6 / 105: anglit\n",
      "  7 / 105: arcsine\n",
      "  8 / 105: beta\n",
      "  9 / 105: betaprime\n",
      " 10 / 105: bradford\n",
      " 11 / 105: burr\n",
      " 12 / 105: burr12\n",
      " 13 / 105: fisk\n",
      " 14 / 105: cauchy\n",
      " 15 / 105: chi\n",
      " 16 / 105: chi2\n",
      " 17 / 105: cosine\n",
      " 18 / 105: dgamma\n",
      " 19 / 105: dweibull\n",
      " 20 / 105: expon\n",
      " 21 / 105: exponnorm\n",
      " 22 / 105: exponweib\n",
      " 23 / 105: exponpow\n",
      " 24 / 105: fatiguelife\n",
      " 25 / 105: foldcauchy\n",
      " 26 / 105: f\n",
      " 27 / 105: foldnorm\n",
      " 28 / 105: weibull_min\n",
      " 29 / 105: truncweibull_min\n",
      " 30 / 105: weibull_max\n",
      " 31 / 105: genlogistic\n",
      " 32 / 105: genpareto\n",
      " 33 / 105: genexpon\n",
      " 34 / 105: genextreme\n",
      " 35 / 105: gamma\n",
      " 36 / 105: erlang\n",
      " 37 / 105: gengamma\n",
      " 38 / 105: genhalflogistic\n",
      " 39 / 105: genhyperbolic\n",
      " 40 / 105: gompertz\n",
      " 41 / 105: gumbel_r\n",
      " 42 / 105: gumbel_l\n",
      " 43 / 105: halfcauchy\n",
      " 44 / 105: halflogistic\n",
      " 45 / 105: halfnorm\n",
      " 46 / 105: hypsecant\n",
      " 47 / 105: gausshyper\n",
      " 48 / 105: invgamma\n",
      " 49 / 105: invgauss\n",
      " 50 / 105: geninvgauss\n",
      " 51 / 105: norminvgauss\n",
      " 52 / 105: invweibull\n",
      " 53 / 105: johnsonsb\n",
      " 54 / 105: johnsonsu\n",
      " 55 / 105: laplace\n",
      " 56 / 105: laplace_asymmetric\n",
      " 57 / 105: levy\n",
      " 58 / 105: levy_l\n",
      " 59 / 105: logistic\n",
      " 60 / 105: loggamma\n",
      " 61 / 105: loglaplace\n",
      " 62 / 105: lognorm\n",
      " 63 / 105: gibrat\n",
      " 64 / 105: gilbrat\n",
      " 65 / 105: maxwell\n",
      " 66 / 105: mielke\n",
      " 67 / 105: kappa4\n",
      " 68 / 105: kappa3\n",
      " 69 / 105: moyal\n",
      " 70 / 105: nakagami\n",
      " 71 / 105: ncx2\n",
      " 72 / 105: ncf\n",
      " 73 / 105: t\n",
      " 74 / 105: nct\n",
      " 75 / 105: pareto\n",
      " 76 / 105: lomax\n",
      " 77 / 105: pearson3\n",
      " 78 / 105: powerlaw\n",
      " 79 / 105: powerlognorm\n",
      " 80 / 105: powernorm\n",
      " 81 / 105: rdist\n",
      " 82 / 105: rayleigh\n",
      " 83 / 105: loguniform\n",
      " 84 / 105: reciprocal\n",
      " 85 / 105: rice\n",
      " 86 / 105: recipinvgauss\n",
      " 87 / 105: semicircular\n",
      " 88 / 105: skewcauchy\n",
      " 89 / 105: skewnorm\n",
      " 90 / 105: trapezoid\n",
      " 91 / 105: trapz\n",
      " 92 / 105: triang\n",
      " 93 / 105: truncexpon\n",
      " 94 / 105: truncnorm\n",
      " 95 / 105: tukeylambda\n",
      " 96 / 105: uniform\n",
      " 97 / 105: vonmises\n",
      " 98 / 105: vonmises_line\n",
      " 99 / 105: wald\n",
      "100 / 105: wrapcauchy\n",
      "101 / 105: gennorm\n",
      "102 / 105: halfgennorm\n",
      "103 / 105: crystalball\n",
      "104 / 105: argus\n"
     ]
    },
    {
     "name": "stderr",
     "output_type": "stream",
     "text": [
      "c:\\Users\\Slava\\miniconda3\\lib\\site-packages\\scipy\\stats\\_distn_infrastructure.py:2052: IntegrationWarning: The integral is probably divergent, or slowly convergent.\n",
      "  return integrate.quad(self._pdf, _a, x, args=args)[0]\n",
      "c:\\Users\\Slava\\miniconda3\\lib\\site-packages\\scipy\\stats\\_continuous_distns.py:4534: RuntimeWarning: overflow encountered in double_scalars\n",
      "  return fac1 * sc.k1e(a * sq) * np.exp(b*x - a*sq) / sq\n",
      "c:\\Users\\Slava\\miniconda3\\lib\\site-packages\\scipy\\stats\\_continuous_distns.py:4534: RuntimeWarning: invalid value encountered in double_scalars\n",
      "  return fac1 * sc.k1e(a * sq) * np.exp(b*x - a*sq) / sq\n",
      "c:\\Users\\Slava\\miniconda3\\lib\\site-packages\\scipy\\stats\\_distn_infrastructure.py:2052: IntegrationWarning: The occurrence of roundoff error is detected, which prevents \n",
      "  the requested tolerance from being achieved.  The error may be \n",
      "  underestimated.\n",
      "  return integrate.quad(self._pdf, _a, x, args=args)[0]\n",
      "c:\\Users\\Slava\\miniconda3\\lib\\site-packages\\numpy\\lib\\function_base.py:2411: RuntimeWarning: invalid value encountered in _cdf_single (vectorized)\n",
      "  outputs = ufunc(*inputs)\n"
     ]
    },
    {
     "data": {
      "text/plain": [
       "Text(0, 0.5, 'Frequency')"
      ]
     },
     "execution_count": 44,
     "metadata": {},
     "output_type": "execute_result"
    }
   ],
   "source": [
    "import warnings\n",
    "import numpy as np\n",
    "import pandas as pd\n",
    "import scipy.stats as st\n",
    "import statsmodels.api as sm\n",
    "from scipy.stats._continuous_distns import _distn_names\n",
    "import matplotlib\n",
    "import matplotlib.pyplot as plt\n",
    "\n",
    "matplotlib.rcParams['figure.figsize'] = (16.0, 12.0)\n",
    "matplotlib.style.use('ggplot')\n",
    "\n",
    "# Create models from data\n",
    "def best_fit_distribution(data, bins=200, ax=None):\n",
    "    \"\"\"Model data by finding best fit distribution to data\"\"\"\n",
    "    # Get histogram of original data\n",
    "    y, x = np.histogram(data, bins=bins, density=True)\n",
    "    x = (x + np.roll(x, -1))[:-1] / 2.0\n",
    "\n",
    "    # Best holders\n",
    "    best_distributions = []\n",
    "\n",
    "    # Estimate distribution parameters from data\n",
    "    for ii, distribution in enumerate([d for d in _distn_names if not d in ['levy_stable', 'studentized_range']]):\n",
    "\n",
    "        print(\"{:>3} / {:<3}: {}\".format( ii+1, len(_distn_names), distribution ))\n",
    "\n",
    "        distribution = getattr(st, distribution)\n",
    "\n",
    "        # Try to fit the distribution\n",
    "        try:\n",
    "            # Ignore warnings from data that can't be fit\n",
    "            with warnings.catch_warnings():\n",
    "                warnings.filterwarnings('ignore')\n",
    "\n",
    "                # fit dist to data\n",
    "                params = distribution.fit(data)\n",
    "\n",
    "                # Separate parts of parameters\n",
    "                arg = params[:-2]\n",
    "                loc = params[-2]\n",
    "                scale = params[-1]\n",
    "\n",
    "                # Calculate fitted PDF and error with fit in distribution\n",
    "                pdf = distribution.pdf(x, loc=loc, scale=scale, *arg)\n",
    "                sse = np.sum(np.power(y - pdf, 2.0))\n",
    "\n",
    "                # if axis pass in add to plot\n",
    "                try:\n",
    "                    if ax:\n",
    "                        pd.Series(pdf, x).plot(ax=ax)\n",
    "                    end\n",
    "                except Exception:\n",
    "                    pass\n",
    "\n",
    "                # identify if this distribution is better\n",
    "                best_distributions.append((distribution, params, sse))\n",
    "\n",
    "        except Exception:\n",
    "            pass\n",
    "\n",
    "\n",
    "    return sorted(best_distributions, key=lambda x:x[2])\n",
    "\n",
    "def make_pdf(dist, params, size=10000):\n",
    "    \"\"\"Generate distributions's Probability Distribution Function \"\"\"\n",
    "\n",
    "    # Separate parts of parameters\n",
    "    arg = params[:-2]\n",
    "    loc = params[-2]\n",
    "    scale = params[-1]\n",
    "\n",
    "    # Get sane start and end points of distribution\n",
    "    start = dist.ppf(0.01, *arg, loc=loc, scale=scale) if arg else dist.ppf(0.01, loc=loc, scale=scale)\n",
    "    end = dist.ppf(0.99, *arg, loc=loc, scale=scale) if arg else dist.ppf(0.99, loc=loc, scale=scale)\n",
    "\n",
    "    # Build PDF and turn into pandas Series\n",
    "    x = np.linspace(start, end, size)\n",
    "    y = dist.pdf(x, loc=loc, scale=scale, *arg)\n",
    "    pdf = pd.Series(y, x)\n",
    "\n",
    "    return pdf\n",
    "\n",
    "# Load data from statsmodels datasets\n",
    "data = table_gate40.sum_gamerounds\n",
    "\n",
    "# Plot for comparison\n",
    "plt.figure(figsize=(12,8))\n",
    "ax = data.plot(kind='hist', bins=50, density=True, alpha=0.5, color=list(matplotlib.rcParams['axes.prop_cycle'])[1]['color'])\n",
    "\n",
    "# Save plot limits\n",
    "dataYLim = ax.get_ylim()\n",
    "\n",
    "# Find best fit distribution\n",
    "best_distibutions = best_fit_distribution(data, 200, ax)\n",
    "best_dist = best_distibutions[0]\n",
    "\n",
    "# Update plots\n",
    "ax.set_ylim(dataYLim)\n",
    "ax.set_title(u'El Niño sea temp.\\n All Fitted Distributions')\n",
    "ax.set_xlabel(u'Temp (°C)')\n",
    "ax.set_ylabel('Frequency')\n",
    "\n",
    "# Make PDF with best params\n",
    "pdf = make_pdf(best_dist[0], best_dist[1])\n",
    "\n",
    "# Display\n",
    "plt.figure(figsize=(12,8))\n",
    "ax = pdf.plot(lw=2, label='PDF', legend=True)\n",
    "data.plot(kind='hist', bins=50, density=True, alpha=0.5, label='Data', legend=True, ax=ax)\n",
    "\n",
    "param_names = (best_dist[0].shapes + ', loc, scale').split(', ') if best_dist[0].shapes else ['loc', 'scale']\n",
    "param_str = ', '.join(['{}={:0.2f}'.format(k,v) for k,v in zip(param_names, best_dist[1])])\n",
    "dist_str = '{}({})'.format(best_dist[0].name, param_str)\n",
    "\n",
    "ax.set_title(u'El Niño sea temp. with best fit distribution \\n' + dist_str)\n",
    "ax.set_xlabel(u'Temp. (°C)')\n",
    "ax.set_ylabel('Frequency')"
   ]
  },
  {
   "cell_type": "code",
   "execution_count": 45,
   "metadata": {},
   "outputs": [],
   "source": [
    "best_dis_for_test =pd.DataFrame(best_distibutions,columns=['dist', 'val', 'rat']).sort_values('rat')"
   ]
  },
  {
   "cell_type": "code",
   "execution_count": 46,
   "metadata": {},
   "outputs": [
    {
     "data": {
      "text/html": [
       "<div>\n",
       "<style scoped>\n",
       "    .dataframe tbody tr th:only-of-type {\n",
       "        vertical-align: middle;\n",
       "    }\n",
       "\n",
       "    .dataframe tbody tr th {\n",
       "        vertical-align: top;\n",
       "    }\n",
       "\n",
       "    .dataframe thead th {\n",
       "        text-align: right;\n",
       "    }\n",
       "</style>\n",
       "<table border=\"1\" class=\"dataframe\">\n",
       "  <thead>\n",
       "    <tr style=\"text-align: right;\">\n",
       "      <th></th>\n",
       "      <th>dist</th>\n",
       "      <th>val</th>\n",
       "      <th>rat</th>\n",
       "    </tr>\n",
       "  </thead>\n",
       "  <tbody>\n",
       "    <tr>\n",
       "      <th>0</th>\n",
       "      <td>&lt;scipy.stats._continuous_distns.norminvgauss_g...</td>\n",
       "      <td>(48.60276451228023, 48.60237827801538, -1.6844...</td>\n",
       "      <td>0.000001</td>\n",
       "    </tr>\n",
       "    <tr>\n",
       "      <th>1</th>\n",
       "      <td>&lt;scipy.stats._continuous_distns.invgauss_gen o...</td>\n",
       "      <td>(5.19405145915654, -1.6827188002247273, 10.200...</td>\n",
       "      <td>0.000001</td>\n",
       "    </tr>\n",
       "    <tr>\n",
       "      <th>2</th>\n",
       "      <td>&lt;scipy.stats._continuous_distns.genextreme_gen...</td>\n",
       "      <td>(-1.2244919409545623, 8.127100087996318, 12.14...</td>\n",
       "      <td>0.000003</td>\n",
       "    </tr>\n",
       "    <tr>\n",
       "      <th>3</th>\n",
       "      <td>&lt;scipy.stats._continuous_distns.betaprime_gen ...</td>\n",
       "      <td>(4.308265621013332, 0.8407192922971043, -1.536...</td>\n",
       "      <td>0.000006</td>\n",
       "    </tr>\n",
       "    <tr>\n",
       "      <th>4</th>\n",
       "      <td>&lt;scipy.stats._continuous_distns.invgamma_gen o...</td>\n",
       "      <td>(0.8362876321193049, -2.4409106742660063, 8.64...</td>\n",
       "      <td>0.000006</td>\n",
       "    </tr>\n",
       "    <tr>\n",
       "      <th>5</th>\n",
       "      <td>&lt;scipy.stats._continuous_distns.burr_gen objec...</td>\n",
       "      <td>(1.1790317817628155, 0.6486804023343494, -5.10...</td>\n",
       "      <td>0.000006</td>\n",
       "    </tr>\n",
       "    <tr>\n",
       "      <th>6</th>\n",
       "      <td>&lt;scipy.stats._continuous_distns.pareto_gen obj...</td>\n",
       "      <td>(1.1706256082598, -19.632085385378527, 19.6320...</td>\n",
       "      <td>0.000011</td>\n",
       "    </tr>\n",
       "    <tr>\n",
       "      <th>7</th>\n",
       "      <td>&lt;scipy.stats._continuous_distns.nct_gen object...</td>\n",
       "      <td>(0.780603219841409, 22.298870993389713, -4.354...</td>\n",
       "      <td>0.000012</td>\n",
       "    </tr>\n",
       "    <tr>\n",
       "      <th>8</th>\n",
       "      <td>&lt;scipy.stats._continuous_distns.johnsonsu_gen ...</td>\n",
       "      <td>(-4.454733249944159, 0.5831920890921932, -0.26...</td>\n",
       "      <td>0.000018</td>\n",
       "    </tr>\n",
       "    <tr>\n",
       "      <th>9</th>\n",
       "      <td>&lt;scipy.stats._continuous_distns.lognorm_gen ob...</td>\n",
       "      <td>(1.7157500071954126, -0.26168682590540004, 15....</td>\n",
       "      <td>0.000018</td>\n",
       "    </tr>\n",
       "    <tr>\n",
       "      <th>10</th>\n",
       "      <td>&lt;scipy.stats._continuous_distns.skewcauchy_gen...</td>\n",
       "      <td>(0.999999999942013, -3.6090231004004962e-09, 7...</td>\n",
       "      <td>0.000018</td>\n",
       "    </tr>\n",
       "    <tr>\n",
       "      <th>11</th>\n",
       "      <td>&lt;scipy.stats._continuous_distns.johnsonsb_gen ...</td>\n",
       "      <td>(3.0271443674408083, 0.5880735910322539, -0.47...</td>\n",
       "      <td>0.000021</td>\n",
       "    </tr>\n",
       "    <tr>\n",
       "      <th>12</th>\n",
       "      <td>&lt;scipy.stats._continuous_distns.burr12_gen obj...</td>\n",
       "      <td>(1.6962720664291369, 0.29707035943054616, -0.4...</td>\n",
       "      <td>0.000023</td>\n",
       "    </tr>\n",
       "    <tr>\n",
       "      <th>13</th>\n",
       "      <td>&lt;scipy.stats._continuous_distns.levy_gen objec...</td>\n",
       "      <td>(-1.173015148486222, 7.154548419135239)</td>\n",
       "      <td>0.000025</td>\n",
       "    </tr>\n",
       "    <tr>\n",
       "      <th>14</th>\n",
       "      <td>&lt;scipy.stats._continuous_distns.geninvgauss_ge...</td>\n",
       "      <td>(0.019426397558113664, 0.1509648174759115, -0....</td>\n",
       "      <td>0.000050</td>\n",
       "    </tr>\n",
       "    <tr>\n",
       "      <th>15</th>\n",
       "      <td>&lt;scipy.stats._continuous_distns.beta_gen objec...</td>\n",
       "      <td>(0.9264709454511234, 804.5035497040618, -1.410...</td>\n",
       "      <td>0.000059</td>\n",
       "    </tr>\n",
       "    <tr>\n",
       "      <th>16</th>\n",
       "      <td>&lt;scipy.stats._continuous_distns.fatiguelife_ge...</td>\n",
       "      <td>(1.9634926081350534, -0.8443050521549778, 18.0...</td>\n",
       "      <td>0.000063</td>\n",
       "    </tr>\n",
       "    <tr>\n",
       "      <th>17</th>\n",
       "      <td>&lt;scipy.stats._continuous_distns.halfgennorm_ge...</td>\n",
       "      <td>(0.5780212887160961, -3.2596180587844595e-15, ...</td>\n",
       "      <td>0.000066</td>\n",
       "    </tr>\n",
       "    <tr>\n",
       "      <th>18</th>\n",
       "      <td>&lt;scipy.stats._continuous_distns.tukeylambda_ge...</td>\n",
       "      <td>(-1.1691736539175215, 9.248620617464315, 3.758...</td>\n",
       "      <td>0.000071</td>\n",
       "    </tr>\n",
       "    <tr>\n",
       "      <th>19</th>\n",
       "      <td>&lt;scipy.stats._continuous_distns.genpareto_gen ...</td>\n",
       "      <td>(1.1202510982452323, -2.338569748666323e-09, 3...</td>\n",
       "      <td>0.000075</td>\n",
       "    </tr>\n",
       "  </tbody>\n",
       "</table>\n",
       "</div>"
      ],
      "text/plain": [
       "                                                 dist  \\\n",
       "0   <scipy.stats._continuous_distns.norminvgauss_g...   \n",
       "1   <scipy.stats._continuous_distns.invgauss_gen o...   \n",
       "2   <scipy.stats._continuous_distns.genextreme_gen...   \n",
       "3   <scipy.stats._continuous_distns.betaprime_gen ...   \n",
       "4   <scipy.stats._continuous_distns.invgamma_gen o...   \n",
       "5   <scipy.stats._continuous_distns.burr_gen objec...   \n",
       "6   <scipy.stats._continuous_distns.pareto_gen obj...   \n",
       "7   <scipy.stats._continuous_distns.nct_gen object...   \n",
       "8   <scipy.stats._continuous_distns.johnsonsu_gen ...   \n",
       "9   <scipy.stats._continuous_distns.lognorm_gen ob...   \n",
       "10  <scipy.stats._continuous_distns.skewcauchy_gen...   \n",
       "11  <scipy.stats._continuous_distns.johnsonsb_gen ...   \n",
       "12  <scipy.stats._continuous_distns.burr12_gen obj...   \n",
       "13  <scipy.stats._continuous_distns.levy_gen objec...   \n",
       "14  <scipy.stats._continuous_distns.geninvgauss_ge...   \n",
       "15  <scipy.stats._continuous_distns.beta_gen objec...   \n",
       "16  <scipy.stats._continuous_distns.fatiguelife_ge...   \n",
       "17  <scipy.stats._continuous_distns.halfgennorm_ge...   \n",
       "18  <scipy.stats._continuous_distns.tukeylambda_ge...   \n",
       "19  <scipy.stats._continuous_distns.genpareto_gen ...   \n",
       "\n",
       "                                                  val       rat  \n",
       "0   (48.60276451228023, 48.60237827801538, -1.6844...  0.000001  \n",
       "1   (5.19405145915654, -1.6827188002247273, 10.200...  0.000001  \n",
       "2   (-1.2244919409545623, 8.127100087996318, 12.14...  0.000003  \n",
       "3   (4.308265621013332, 0.8407192922971043, -1.536...  0.000006  \n",
       "4   (0.8362876321193049, -2.4409106742660063, 8.64...  0.000006  \n",
       "5   (1.1790317817628155, 0.6486804023343494, -5.10...  0.000006  \n",
       "6   (1.1706256082598, -19.632085385378527, 19.6320...  0.000011  \n",
       "7   (0.780603219841409, 22.298870993389713, -4.354...  0.000012  \n",
       "8   (-4.454733249944159, 0.5831920890921932, -0.26...  0.000018  \n",
       "9   (1.7157500071954126, -0.26168682590540004, 15....  0.000018  \n",
       "10  (0.999999999942013, -3.6090231004004962e-09, 7...  0.000018  \n",
       "11  (3.0271443674408083, 0.5880735910322539, -0.47...  0.000021  \n",
       "12  (1.6962720664291369, 0.29707035943054616, -0.4...  0.000023  \n",
       "13            (-1.173015148486222, 7.154548419135239)  0.000025  \n",
       "14  (0.019426397558113664, 0.1509648174759115, -0....  0.000050  \n",
       "15  (0.9264709454511234, 804.5035497040618, -1.410...  0.000059  \n",
       "16  (1.9634926081350534, -0.8443050521549778, 18.0...  0.000063  \n",
       "17  (0.5780212887160961, -3.2596180587844595e-15, ...  0.000066  \n",
       "18  (-1.1691736539175215, 9.248620617464315, 3.758...  0.000071  \n",
       "19  (1.1202510982452323, -2.338569748666323e-09, 3...  0.000075  "
      ]
     },
     "execution_count": 46,
     "metadata": {},
     "output_type": "execute_result"
    }
   ],
   "source": [
    "best_dis_for_test.head(20)"
   ]
  },
  {
   "cell_type": "code",
   "execution_count": 47,
   "metadata": {},
   "outputs": [],
   "source": [
    "plt.rcParams.update(plt.rcParamsDefault)"
   ]
  },
  {
   "cell_type": "code",
   "execution_count": 48,
   "metadata": {},
   "outputs": [
    {
     "data": {
      "text/plain": [
       "<scipy.stats._continuous_distns.invgauss_gen at 0x24d9106bc10>"
      ]
     },
     "execution_count": 48,
     "metadata": {},
     "output_type": "execute_result"
    }
   ],
   "source": [
    "best_dis_for_test['dist'][1]"
   ]
  },
  {
   "cell_type": "code",
   "execution_count": 49,
   "metadata": {},
   "outputs": [
    {
     "data": {
      "text/plain": [
       "(5.19405145915654, -1.6827188002247273, 10.200451954638698)"
      ]
     },
     "execution_count": 49,
     "metadata": {},
     "output_type": "execute_result"
    }
   ],
   "source": [
    "dist_parametres_for_test = best_dis_for_test['val'][1] #сохраним значения распределения в переменную\n",
    "dist_parametres_for_test"
   ]
  },
  {
   "cell_type": "code",
   "execution_count": 50,
   "metadata": {},
   "outputs": [],
   "source": [
    "(a_test,b_test,c_test ) = dist_parametres_for_test"
   ]
  },
  {
   "attachments": {},
   "cell_type": "markdown",
   "metadata": {},
   "source": [
    "[En] According to the results of our analysis, we see that observations of control and test group are obtained from different distributions. (Among the neighboring distributions there is not any distribution which describes the control and test group's distributions)\n",
    "When using A/B-test, the most important condition is that the values of control and test group should be taken from the one and the same distribution\n",
    "__________________________________________________________________________________________\n",
    "[RU] По результатам анализа исходного распределеня видим, что наблюдения двух групп взяты из разных распределений (Среди ближайших  распределений нет одного, которое бы описывало распределение наблюдений двух групп).\n",
    "При проведении A/B-тестирование важным условием является, чтобы наблюдения тестовой и контрольной групп должны быть взяты из одного распределения."
   ]
  },
  {
   "attachments": {},
   "cell_type": "markdown",
   "metadata": {},
   "source": [
    "[En] Now let's see if there abnormal values in the groups \n",
    "__________________________________________________________________________________________\n",
    "[RU] Теперь посмотрим имеются аномальные значения в группах."
   ]
  },
  {
   "cell_type": "code",
   "execution_count": 51,
   "metadata": {},
   "outputs": [
    {
     "data": {
      "text/html": [
       "<div>\n",
       "<style scoped>\n",
       "    .dataframe tbody tr th:only-of-type {\n",
       "        vertical-align: middle;\n",
       "    }\n",
       "\n",
       "    .dataframe tbody tr th {\n",
       "        vertical-align: top;\n",
       "    }\n",
       "\n",
       "    .dataframe thead th {\n",
       "        text-align: right;\n",
       "    }\n",
       "</style>\n",
       "<table border=\"1\" class=\"dataframe\">\n",
       "  <thead>\n",
       "    <tr style=\"text-align: right;\">\n",
       "      <th></th>\n",
       "      <th>userid</th>\n",
       "      <th>version</th>\n",
       "      <th>sum_gamerounds</th>\n",
       "      <th>retention_1</th>\n",
       "      <th>retention_7</th>\n",
       "    </tr>\n",
       "  </thead>\n",
       "  <tbody>\n",
       "    <tr>\n",
       "      <th>57702</th>\n",
       "      <td>6390605</td>\n",
       "      <td>gate_30</td>\n",
       "      <td>49854</td>\n",
       "      <td>False</td>\n",
       "      <td>True</td>\n",
       "    </tr>\n",
       "    <tr>\n",
       "      <th>7912</th>\n",
       "      <td>871500</td>\n",
       "      <td>gate_30</td>\n",
       "      <td>2961</td>\n",
       "      <td>True</td>\n",
       "      <td>True</td>\n",
       "    </tr>\n",
       "    <tr>\n",
       "      <th>43671</th>\n",
       "      <td>4832608</td>\n",
       "      <td>gate_30</td>\n",
       "      <td>2438</td>\n",
       "      <td>True</td>\n",
       "      <td>True</td>\n",
       "    </tr>\n",
       "    <tr>\n",
       "      <th>46344</th>\n",
       "      <td>5133952</td>\n",
       "      <td>gate_30</td>\n",
       "      <td>2251</td>\n",
       "      <td>True</td>\n",
       "      <td>True</td>\n",
       "    </tr>\n",
       "    <tr>\n",
       "      <th>87007</th>\n",
       "      <td>9640085</td>\n",
       "      <td>gate_30</td>\n",
       "      <td>2156</td>\n",
       "      <td>True</td>\n",
       "      <td>True</td>\n",
       "    </tr>\n",
       "    <tr>\n",
       "      <th>...</th>\n",
       "      <td>...</td>\n",
       "      <td>...</td>\n",
       "      <td>...</td>\n",
       "      <td>...</td>\n",
       "      <td>...</td>\n",
       "    </tr>\n",
       "    <tr>\n",
       "      <th>40973</th>\n",
       "      <td>4533461</td>\n",
       "      <td>gate_30</td>\n",
       "      <td>0</td>\n",
       "      <td>False</td>\n",
       "      <td>False</td>\n",
       "    </tr>\n",
       "    <tr>\n",
       "      <th>20880</th>\n",
       "      <td>2323023</td>\n",
       "      <td>gate_30</td>\n",
       "      <td>0</td>\n",
       "      <td>False</td>\n",
       "      <td>False</td>\n",
       "    </tr>\n",
       "    <tr>\n",
       "      <th>81104</th>\n",
       "      <td>8981313</td>\n",
       "      <td>gate_30</td>\n",
       "      <td>0</td>\n",
       "      <td>False</td>\n",
       "      <td>False</td>\n",
       "    </tr>\n",
       "    <tr>\n",
       "      <th>87537</th>\n",
       "      <td>9696981</td>\n",
       "      <td>gate_30</td>\n",
       "      <td>0</td>\n",
       "      <td>False</td>\n",
       "      <td>False</td>\n",
       "    </tr>\n",
       "    <tr>\n",
       "      <th>81466</th>\n",
       "      <td>9022139</td>\n",
       "      <td>gate_30</td>\n",
       "      <td>0</td>\n",
       "      <td>False</td>\n",
       "      <td>False</td>\n",
       "    </tr>\n",
       "  </tbody>\n",
       "</table>\n",
       "<p>44700 rows × 5 columns</p>\n",
       "</div>"
      ],
      "text/plain": [
       "        userid  version  sum_gamerounds  retention_1  retention_7\n",
       "57702  6390605  gate_30           49854        False         True\n",
       "7912    871500  gate_30            2961         True         True\n",
       "43671  4832608  gate_30            2438         True         True\n",
       "46344  5133952  gate_30            2251         True         True\n",
       "87007  9640085  gate_30            2156         True         True\n",
       "...        ...      ...             ...          ...          ...\n",
       "40973  4533461  gate_30               0        False        False\n",
       "20880  2323023  gate_30               0        False        False\n",
       "81104  8981313  gate_30               0        False        False\n",
       "87537  9696981  gate_30               0        False        False\n",
       "81466  9022139  gate_30               0        False        False\n",
       "\n",
       "[44700 rows x 5 columns]"
      ]
     },
     "execution_count": 51,
     "metadata": {},
     "output_type": "execute_result"
    }
   ],
   "source": [
    "table_gate30.sort_values('sum_gamerounds', ascending=False)"
   ]
  },
  {
   "cell_type": "code",
   "execution_count": 52,
   "metadata": {},
   "outputs": [
    {
     "data": {
      "text/html": [
       "<div>\n",
       "<style scoped>\n",
       "    .dataframe tbody tr th:only-of-type {\n",
       "        vertical-align: middle;\n",
       "    }\n",
       "\n",
       "    .dataframe tbody tr th {\n",
       "        vertical-align: top;\n",
       "    }\n",
       "\n",
       "    .dataframe thead th {\n",
       "        text-align: right;\n",
       "    }\n",
       "</style>\n",
       "<table border=\"1\" class=\"dataframe\">\n",
       "  <thead>\n",
       "    <tr style=\"text-align: right;\">\n",
       "      <th></th>\n",
       "      <th>userid</th>\n",
       "      <th>version</th>\n",
       "      <th>sum_gamerounds</th>\n",
       "      <th>retention_1</th>\n",
       "      <th>retention_7</th>\n",
       "    </tr>\n",
       "  </thead>\n",
       "  <tbody>\n",
       "    <tr>\n",
       "      <th>29417</th>\n",
       "      <td>3271615</td>\n",
       "      <td>gate_40</td>\n",
       "      <td>2640</td>\n",
       "      <td>True</td>\n",
       "      <td>False</td>\n",
       "    </tr>\n",
       "    <tr>\n",
       "      <th>48188</th>\n",
       "      <td>5346171</td>\n",
       "      <td>gate_40</td>\n",
       "      <td>2294</td>\n",
       "      <td>True</td>\n",
       "      <td>True</td>\n",
       "    </tr>\n",
       "    <tr>\n",
       "      <th>36933</th>\n",
       "      <td>4090246</td>\n",
       "      <td>gate_40</td>\n",
       "      <td>2124</td>\n",
       "      <td>True</td>\n",
       "      <td>True</td>\n",
       "    </tr>\n",
       "    <tr>\n",
       "      <th>88328</th>\n",
       "      <td>9791599</td>\n",
       "      <td>gate_40</td>\n",
       "      <td>2063</td>\n",
       "      <td>True</td>\n",
       "      <td>True</td>\n",
       "    </tr>\n",
       "    <tr>\n",
       "      <th>6536</th>\n",
       "      <td>725080</td>\n",
       "      <td>gate_40</td>\n",
       "      <td>2015</td>\n",
       "      <td>True</td>\n",
       "      <td>True</td>\n",
       "    </tr>\n",
       "    <tr>\n",
       "      <th>...</th>\n",
       "      <td>...</td>\n",
       "      <td>...</td>\n",
       "      <td>...</td>\n",
       "      <td>...</td>\n",
       "      <td>...</td>\n",
       "    </tr>\n",
       "    <tr>\n",
       "      <th>68657</th>\n",
       "      <td>7608893</td>\n",
       "      <td>gate_40</td>\n",
       "      <td>0</td>\n",
       "      <td>False</td>\n",
       "      <td>False</td>\n",
       "    </tr>\n",
       "    <tr>\n",
       "      <th>1988</th>\n",
       "      <td>214700</td>\n",
       "      <td>gate_40</td>\n",
       "      <td>0</td>\n",
       "      <td>False</td>\n",
       "      <td>False</td>\n",
       "    </tr>\n",
       "    <tr>\n",
       "      <th>80941</th>\n",
       "      <td>8964492</td>\n",
       "      <td>gate_40</td>\n",
       "      <td>0</td>\n",
       "      <td>False</td>\n",
       "      <td>False</td>\n",
       "    </tr>\n",
       "    <tr>\n",
       "      <th>29402</th>\n",
       "      <td>3270520</td>\n",
       "      <td>gate_40</td>\n",
       "      <td>0</td>\n",
       "      <td>False</td>\n",
       "      <td>False</td>\n",
       "    </tr>\n",
       "    <tr>\n",
       "      <th>77280</th>\n",
       "      <td>8556826</td>\n",
       "      <td>gate_40</td>\n",
       "      <td>0</td>\n",
       "      <td>False</td>\n",
       "      <td>False</td>\n",
       "    </tr>\n",
       "  </tbody>\n",
       "</table>\n",
       "<p>45489 rows × 5 columns</p>\n",
       "</div>"
      ],
      "text/plain": [
       "        userid  version  sum_gamerounds  retention_1  retention_7\n",
       "29417  3271615  gate_40            2640         True        False\n",
       "48188  5346171  gate_40            2294         True         True\n",
       "36933  4090246  gate_40            2124         True         True\n",
       "88328  9791599  gate_40            2063         True         True\n",
       "6536    725080  gate_40            2015         True         True\n",
       "...        ...      ...             ...          ...          ...\n",
       "68657  7608893  gate_40               0        False        False\n",
       "1988    214700  gate_40               0        False        False\n",
       "80941  8964492  gate_40               0        False        False\n",
       "29402  3270520  gate_40               0        False        False\n",
       "77280  8556826  gate_40               0        False        False\n",
       "\n",
       "[45489 rows x 5 columns]"
      ]
     },
     "execution_count": 52,
     "metadata": {},
     "output_type": "execute_result"
    }
   ],
   "source": [
    "table_gate40.sort_values('sum_gamerounds', ascending=False)"
   ]
  },
  {
   "cell_type": "code",
   "execution_count": 53,
   "metadata": {},
   "outputs": [
    {
     "data": {
      "text/plain": [
       "52.45626398210291"
      ]
     },
     "execution_count": 53,
     "metadata": {},
     "output_type": "execute_result"
    }
   ],
   "source": [
    "table_gate30.sum_gamerounds.mean()"
   ]
  },
  {
   "cell_type": "code",
   "execution_count": 54,
   "metadata": {},
   "outputs": [
    {
     "data": {
      "text/plain": [
       "51.29877552814966"
      ]
     },
     "execution_count": 54,
     "metadata": {},
     "output_type": "execute_result"
    }
   ],
   "source": [
    "table_gate40.sum_gamerounds.mean()"
   ]
  },
  {
   "attachments": {},
   "cell_type": "markdown",
   "metadata": {},
   "source": [
    "[En] We see that there is one abnormal value which 17 time exceed the outliers. Probably, it is specially added to the dataset or it is the result of a game from the part of Q&A ingeneer. Or it is just accident. Probably, this anomaly greatly influences on mean of the metric.\n",
    "We delete this anomaly for correctness of the results.\n",
    "__________________________________________________________________________________________\n",
    "[RU] Видим, что наблюдается аномальное значение в контрольной группе, которое превышает выбросы в несколько десятков раз. Возможно, оно добавлено в датасет специально или за этим значением стоит результаты игры тестировщика приложения. Возможно, это просто уникальная слуайность - аномальное событие. Данная аномалия, скорее всего, имеет сильное влияние на среднее значение, распределение метрики суммы сыгранных раундов.\n",
    "Для корректности результатов мы удалим эту аномалию из датасета."
   ]
  },
  {
   "cell_type": "code",
   "execution_count": 55,
   "metadata": {},
   "outputs": [],
   "source": [
    "table_gate30_changed = table_gate30.copy()"
   ]
  },
  {
   "cell_type": "code",
   "execution_count": 56,
   "metadata": {},
   "outputs": [
    {
     "data": {
      "text/html": [
       "<div>\n",
       "<style scoped>\n",
       "    .dataframe tbody tr th:only-of-type {\n",
       "        vertical-align: middle;\n",
       "    }\n",
       "\n",
       "    .dataframe tbody tr th {\n",
       "        vertical-align: top;\n",
       "    }\n",
       "\n",
       "    .dataframe thead th {\n",
       "        text-align: right;\n",
       "    }\n",
       "</style>\n",
       "<table border=\"1\" class=\"dataframe\">\n",
       "  <thead>\n",
       "    <tr style=\"text-align: right;\">\n",
       "      <th></th>\n",
       "      <th>userid</th>\n",
       "      <th>version</th>\n",
       "      <th>sum_gamerounds</th>\n",
       "      <th>retention_1</th>\n",
       "      <th>retention_7</th>\n",
       "    </tr>\n",
       "  </thead>\n",
       "  <tbody>\n",
       "    <tr>\n",
       "      <th>57702</th>\n",
       "      <td>6390605</td>\n",
       "      <td>gate_30</td>\n",
       "      <td>49854</td>\n",
       "      <td>False</td>\n",
       "      <td>True</td>\n",
       "    </tr>\n",
       "    <tr>\n",
       "      <th>7912</th>\n",
       "      <td>871500</td>\n",
       "      <td>gate_30</td>\n",
       "      <td>2961</td>\n",
       "      <td>True</td>\n",
       "      <td>True</td>\n",
       "    </tr>\n",
       "    <tr>\n",
       "      <th>43671</th>\n",
       "      <td>4832608</td>\n",
       "      <td>gate_30</td>\n",
       "      <td>2438</td>\n",
       "      <td>True</td>\n",
       "      <td>True</td>\n",
       "    </tr>\n",
       "    <tr>\n",
       "      <th>46344</th>\n",
       "      <td>5133952</td>\n",
       "      <td>gate_30</td>\n",
       "      <td>2251</td>\n",
       "      <td>True</td>\n",
       "      <td>True</td>\n",
       "    </tr>\n",
       "    <tr>\n",
       "      <th>87007</th>\n",
       "      <td>9640085</td>\n",
       "      <td>gate_30</td>\n",
       "      <td>2156</td>\n",
       "      <td>True</td>\n",
       "      <td>True</td>\n",
       "    </tr>\n",
       "    <tr>\n",
       "      <th>...</th>\n",
       "      <td>...</td>\n",
       "      <td>...</td>\n",
       "      <td>...</td>\n",
       "      <td>...</td>\n",
       "      <td>...</td>\n",
       "    </tr>\n",
       "    <tr>\n",
       "      <th>40973</th>\n",
       "      <td>4533461</td>\n",
       "      <td>gate_30</td>\n",
       "      <td>0</td>\n",
       "      <td>False</td>\n",
       "      <td>False</td>\n",
       "    </tr>\n",
       "    <tr>\n",
       "      <th>20880</th>\n",
       "      <td>2323023</td>\n",
       "      <td>gate_30</td>\n",
       "      <td>0</td>\n",
       "      <td>False</td>\n",
       "      <td>False</td>\n",
       "    </tr>\n",
       "    <tr>\n",
       "      <th>81104</th>\n",
       "      <td>8981313</td>\n",
       "      <td>gate_30</td>\n",
       "      <td>0</td>\n",
       "      <td>False</td>\n",
       "      <td>False</td>\n",
       "    </tr>\n",
       "    <tr>\n",
       "      <th>87537</th>\n",
       "      <td>9696981</td>\n",
       "      <td>gate_30</td>\n",
       "      <td>0</td>\n",
       "      <td>False</td>\n",
       "      <td>False</td>\n",
       "    </tr>\n",
       "    <tr>\n",
       "      <th>81466</th>\n",
       "      <td>9022139</td>\n",
       "      <td>gate_30</td>\n",
       "      <td>0</td>\n",
       "      <td>False</td>\n",
       "      <td>False</td>\n",
       "    </tr>\n",
       "  </tbody>\n",
       "</table>\n",
       "<p>44700 rows × 5 columns</p>\n",
       "</div>"
      ],
      "text/plain": [
       "        userid  version  sum_gamerounds  retention_1  retention_7\n",
       "57702  6390605  gate_30           49854        False         True\n",
       "7912    871500  gate_30            2961         True         True\n",
       "43671  4832608  gate_30            2438         True         True\n",
       "46344  5133952  gate_30            2251         True         True\n",
       "87007  9640085  gate_30            2156         True         True\n",
       "...        ...      ...             ...          ...          ...\n",
       "40973  4533461  gate_30               0        False        False\n",
       "20880  2323023  gate_30               0        False        False\n",
       "81104  8981313  gate_30               0        False        False\n",
       "87537  9696981  gate_30               0        False        False\n",
       "81466  9022139  gate_30               0        False        False\n",
       "\n",
       "[44700 rows x 5 columns]"
      ]
     },
     "execution_count": 56,
     "metadata": {},
     "output_type": "execute_result"
    }
   ],
   "source": [
    "table_gate30_changed.sort_values('sum_gamerounds', ascending=False)"
   ]
  },
  {
   "cell_type": "code",
   "execution_count": 57,
   "metadata": {},
   "outputs": [
    {
     "data": {
      "text/html": [
       "<div>\n",
       "<style scoped>\n",
       "    .dataframe tbody tr th:only-of-type {\n",
       "        vertical-align: middle;\n",
       "    }\n",
       "\n",
       "    .dataframe tbody tr th {\n",
       "        vertical-align: top;\n",
       "    }\n",
       "\n",
       "    .dataframe thead th {\n",
       "        text-align: right;\n",
       "    }\n",
       "</style>\n",
       "<table border=\"1\" class=\"dataframe\">\n",
       "  <thead>\n",
       "    <tr style=\"text-align: right;\">\n",
       "      <th></th>\n",
       "      <th>userid</th>\n",
       "      <th>version</th>\n",
       "      <th>sum_gamerounds</th>\n",
       "      <th>retention_1</th>\n",
       "      <th>retention_7</th>\n",
       "    </tr>\n",
       "  </thead>\n",
       "  <tbody>\n",
       "    <tr>\n",
       "      <th>7912</th>\n",
       "      <td>871500</td>\n",
       "      <td>gate_30</td>\n",
       "      <td>2961</td>\n",
       "      <td>True</td>\n",
       "      <td>True</td>\n",
       "    </tr>\n",
       "    <tr>\n",
       "      <th>43671</th>\n",
       "      <td>4832608</td>\n",
       "      <td>gate_30</td>\n",
       "      <td>2438</td>\n",
       "      <td>True</td>\n",
       "      <td>True</td>\n",
       "    </tr>\n",
       "    <tr>\n",
       "      <th>46344</th>\n",
       "      <td>5133952</td>\n",
       "      <td>gate_30</td>\n",
       "      <td>2251</td>\n",
       "      <td>True</td>\n",
       "      <td>True</td>\n",
       "    </tr>\n",
       "    <tr>\n",
       "      <th>87007</th>\n",
       "      <td>9640085</td>\n",
       "      <td>gate_30</td>\n",
       "      <td>2156</td>\n",
       "      <td>True</td>\n",
       "      <td>True</td>\n",
       "    </tr>\n",
       "    <tr>\n",
       "      <th>655</th>\n",
       "      <td>69927</td>\n",
       "      <td>gate_30</td>\n",
       "      <td>1906</td>\n",
       "      <td>True</td>\n",
       "      <td>True</td>\n",
       "    </tr>\n",
       "    <tr>\n",
       "      <th>...</th>\n",
       "      <td>...</td>\n",
       "      <td>...</td>\n",
       "      <td>...</td>\n",
       "      <td>...</td>\n",
       "      <td>...</td>\n",
       "    </tr>\n",
       "    <tr>\n",
       "      <th>35194</th>\n",
       "      <td>3897718</td>\n",
       "      <td>gate_30</td>\n",
       "      <td>0</td>\n",
       "      <td>False</td>\n",
       "      <td>False</td>\n",
       "    </tr>\n",
       "    <tr>\n",
       "      <th>35197</th>\n",
       "      <td>3898155</td>\n",
       "      <td>gate_30</td>\n",
       "      <td>0</td>\n",
       "      <td>False</td>\n",
       "      <td>False</td>\n",
       "    </tr>\n",
       "    <tr>\n",
       "      <th>54101</th>\n",
       "      <td>6006695</td>\n",
       "      <td>gate_30</td>\n",
       "      <td>0</td>\n",
       "      <td>False</td>\n",
       "      <td>False</td>\n",
       "    </tr>\n",
       "    <tr>\n",
       "      <th>54068</th>\n",
       "      <td>6002817</td>\n",
       "      <td>gate_30</td>\n",
       "      <td>0</td>\n",
       "      <td>False</td>\n",
       "      <td>False</td>\n",
       "    </tr>\n",
       "    <tr>\n",
       "      <th>35975</th>\n",
       "      <td>3984811</td>\n",
       "      <td>gate_30</td>\n",
       "      <td>0</td>\n",
       "      <td>False</td>\n",
       "      <td>False</td>\n",
       "    </tr>\n",
       "  </tbody>\n",
       "</table>\n",
       "<p>44699 rows × 5 columns</p>\n",
       "</div>"
      ],
      "text/plain": [
       "        userid  version  sum_gamerounds  retention_1  retention_7\n",
       "7912    871500  gate_30            2961         True         True\n",
       "43671  4832608  gate_30            2438         True         True\n",
       "46344  5133952  gate_30            2251         True         True\n",
       "87007  9640085  gate_30            2156         True         True\n",
       "655      69927  gate_30            1906         True         True\n",
       "...        ...      ...             ...          ...          ...\n",
       "35194  3897718  gate_30               0        False        False\n",
       "35197  3898155  gate_30               0        False        False\n",
       "54101  6006695  gate_30               0        False        False\n",
       "54068  6002817  gate_30               0        False        False\n",
       "35975  3984811  gate_30               0        False        False\n",
       "\n",
       "[44699 rows x 5 columns]"
      ]
     },
     "execution_count": 57,
     "metadata": {},
     "output_type": "execute_result"
    }
   ],
   "source": [
    "table_gate30_changed = table_gate30_changed[(table_gate30_changed.userid != 6390605)&(table_gate30_changed.sum_gamerounds != 49854)]\n",
    "table_gate30_changed.sort_values('sum_gamerounds', ascending=False)"
   ]
  },
  {
   "cell_type": "code",
   "execution_count": 58,
   "metadata": {},
   "outputs": [
    {
     "data": {
      "text/plain": [
       "1"
      ]
     },
     "execution_count": 58,
     "metadata": {},
     "output_type": "execute_result"
    }
   ],
   "source": [
    "len(table_gate30) - len(table_gate30_changed) # Проверяем, не удалили ли мы случайно другие значени из датасета"
   ]
  },
  {
   "cell_type": "code",
   "execution_count": 59,
   "metadata": {},
   "outputs": [
    {
     "name": "stdout",
     "output_type": "stream",
     "text": [
      "  1 / 105: ksone\n"
     ]
    },
    {
     "name": "stdout",
     "output_type": "stream",
     "text": [
      "  2 / 105: kstwo\n",
      "  3 / 105: kstwobign\n",
      "  4 / 105: norm\n",
      "  5 / 105: alpha\n",
      "  6 / 105: anglit\n",
      "  7 / 105: arcsine\n",
      "  8 / 105: beta\n",
      "  9 / 105: betaprime\n",
      " 10 / 105: bradford\n",
      " 11 / 105: burr\n",
      " 12 / 105: burr12\n",
      " 13 / 105: fisk\n",
      " 14 / 105: cauchy\n",
      " 15 / 105: chi\n",
      " 16 / 105: chi2\n",
      " 17 / 105: cosine\n",
      " 18 / 105: dgamma\n",
      " 19 / 105: dweibull\n",
      " 20 / 105: expon\n",
      " 21 / 105: exponnorm\n",
      " 22 / 105: exponweib\n",
      " 23 / 105: exponpow\n",
      " 24 / 105: fatiguelife\n",
      " 25 / 105: foldcauchy\n",
      " 26 / 105: f\n",
      " 27 / 105: foldnorm\n",
      " 28 / 105: weibull_min\n",
      " 29 / 105: truncweibull_min\n",
      " 30 / 105: weibull_max\n",
      " 31 / 105: genlogistic\n",
      " 32 / 105: genpareto\n",
      " 33 / 105: genexpon\n",
      " 34 / 105: genextreme\n",
      " 35 / 105: gamma\n",
      " 36 / 105: erlang\n",
      " 37 / 105: gengamma\n",
      " 38 / 105: genhalflogistic\n",
      " 39 / 105: genhyperbolic\n",
      " 40 / 105: gompertz\n",
      " 41 / 105: gumbel_r\n",
      " 42 / 105: gumbel_l\n",
      " 43 / 105: halfcauchy\n",
      " 44 / 105: halflogistic\n",
      " 45 / 105: halfnorm\n",
      " 46 / 105: hypsecant\n",
      " 47 / 105: gausshyper\n",
      " 48 / 105: invgamma\n",
      " 49 / 105: invgauss\n",
      " 50 / 105: geninvgauss\n",
      " 51 / 105: norminvgauss\n",
      " 52 / 105: invweibull\n",
      " 53 / 105: johnsonsb\n",
      " 54 / 105: johnsonsu\n",
      " 55 / 105: laplace\n",
      " 56 / 105: laplace_asymmetric\n",
      " 57 / 105: levy\n",
      " 58 / 105: levy_l\n",
      " 59 / 105: logistic\n",
      " 60 / 105: loggamma\n",
      " 61 / 105: loglaplace\n",
      " 62 / 105: lognorm\n",
      " 63 / 105: gibrat\n",
      " 64 / 105: gilbrat\n",
      " 65 / 105: maxwell\n",
      " 66 / 105: mielke\n",
      " 67 / 105: kappa4\n",
      " 68 / 105: kappa3\n",
      " 69 / 105: moyal\n",
      " 70 / 105: nakagami\n",
      " 71 / 105: ncx2\n",
      " 72 / 105: ncf\n",
      " 73 / 105: t\n",
      " 74 / 105: nct\n",
      " 75 / 105: pareto\n",
      " 76 / 105: lomax\n",
      " 77 / 105: pearson3\n",
      " 78 / 105: powerlaw\n",
      " 79 / 105: powerlognorm\n",
      " 80 / 105: powernorm\n",
      " 81 / 105: rdist\n",
      " 82 / 105: rayleigh\n",
      " 83 / 105: loguniform\n",
      " 84 / 105: reciprocal\n",
      " 85 / 105: rice\n",
      " 86 / 105: recipinvgauss\n",
      " 87 / 105: semicircular\n",
      " 88 / 105: skewcauchy\n",
      " 89 / 105: skewnorm\n",
      " 90 / 105: trapezoid\n",
      " 91 / 105: trapz\n",
      " 92 / 105: triang\n",
      " 93 / 105: truncexpon\n",
      " 94 / 105: truncnorm\n",
      " 95 / 105: tukeylambda\n",
      " 96 / 105: uniform\n",
      " 97 / 105: vonmises\n",
      " 98 / 105: vonmises_line\n",
      " 99 / 105: wald\n",
      "100 / 105: wrapcauchy\n",
      "101 / 105: gennorm\n",
      "102 / 105: halfgennorm\n",
      "103 / 105: crystalball\n",
      "104 / 105: argus\n"
     ]
    },
    {
     "data": {
      "text/plain": [
       "Text(0, 0.5, 'Frequency')"
      ]
     },
     "execution_count": 59,
     "metadata": {},
     "output_type": "execute_result"
    }
   ],
   "source": [
    "import warnings\n",
    "import numpy as np\n",
    "import pandas as pd\n",
    "import scipy.stats as st\n",
    "import statsmodels.api as sm\n",
    "from scipy.stats._continuous_distns import _distn_names\n",
    "import matplotlib\n",
    "import matplotlib.pyplot as plt\n",
    "\n",
    "matplotlib.rcParams['figure.figsize'] = (16.0, 12.0)\n",
    "matplotlib.style.use('ggplot')\n",
    "\n",
    "# Create models from data\n",
    "def best_fit_distribution(data, bins=200, ax=None):\n",
    "    \"\"\"Model data by finding best fit distribution to data\"\"\"\n",
    "    # Get histogram of original data\n",
    "    y, x = np.histogram(data, bins=bins, density=True)\n",
    "    x = (x + np.roll(x, -1))[:-1] / 2.0\n",
    "\n",
    "    # Best holders\n",
    "    best_distributions = []\n",
    "\n",
    "    # Estimate distribution parameters from data\n",
    "    for ii, distribution in enumerate([d for d in _distn_names if not d in ['levy_stable', 'studentized_range']]):\n",
    "\n",
    "        print(\"{:>3} / {:<3}: {}\".format( ii+1, len(_distn_names), distribution ))\n",
    "\n",
    "        distribution = getattr(st, distribution)\n",
    "\n",
    "        # Try to fit the distribution\n",
    "        try:\n",
    "            # Ignore warnings from data that can't be fit\n",
    "            with warnings.catch_warnings():\n",
    "                warnings.filterwarnings('ignore')\n",
    "\n",
    "                # fit dist to data\n",
    "                params = distribution.fit(data)\n",
    "\n",
    "                # Separate parts of parameters\n",
    "                arg = params[:-2]\n",
    "                loc = params[-2]\n",
    "                scale = params[-1]\n",
    "\n",
    "                # Calculate fitted PDF and error with fit in distribution\n",
    "                pdf = distribution.pdf(x, loc=loc, scale=scale, *arg)\n",
    "                sse = np.sum(np.power(y - pdf, 2.0))\n",
    "\n",
    "                # if axis pass in add to plot\n",
    "                try:\n",
    "                    if ax:\n",
    "                        pd.Series(pdf, x).plot(ax=ax)\n",
    "                    end\n",
    "                except Exception:\n",
    "                    pass\n",
    "\n",
    "                # identify if this distribution is better\n",
    "                best_distributions.append((distribution, params, sse))\n",
    "\n",
    "        except Exception:\n",
    "            pass\n",
    "\n",
    "\n",
    "    return sorted(best_distributions, key=lambda x:x[2])\n",
    "\n",
    "def make_pdf(dist, params, size=10000):\n",
    "    \"\"\"Generate distributions's Probability Distribution Function \"\"\"\n",
    "\n",
    "    # Separate parts of parameters\n",
    "    arg = params[:-2]\n",
    "    loc = params[-2]\n",
    "    scale = params[-1]\n",
    "\n",
    "    # Get sane start and end points of distribution\n",
    "    start = dist.ppf(0.01, *arg, loc=loc, scale=scale) if arg else dist.ppf(0.01, loc=loc, scale=scale)\n",
    "    end = dist.ppf(0.99, *arg, loc=loc, scale=scale) if arg else dist.ppf(0.99, loc=loc, scale=scale)\n",
    "\n",
    "    # Build PDF and turn into pandas Series\n",
    "    x = np.linspace(start, end, size)\n",
    "    y = dist.pdf(x, loc=loc, scale=scale, *arg)\n",
    "    pdf = pd.Series(y, x)\n",
    "\n",
    "    return pdf\n",
    "\n",
    "# Load data from statsmodels datasets\n",
    "data = table_gate30_changed.sum_gamerounds\n",
    "\n",
    "# Plot for comparison\n",
    "plt.figure(figsize=(12,8))\n",
    "ax = data.plot(kind='hist', bins=50, density=True, alpha=0.5, color=list(matplotlib.rcParams['axes.prop_cycle'])[1]['color'])\n",
    "\n",
    "# Save plot limits\n",
    "dataYLim = ax.get_ylim()\n",
    "\n",
    "# Find best fit distribution\n",
    "best_distibutions = best_fit_distribution(data, 200, ax)\n",
    "best_dist = best_distibutions[0]\n",
    "\n",
    "# Update plots\n",
    "ax.set_ylim(dataYLim)\n",
    "ax.set_title(u'El Niño sea temp.\\n All Fitted Distributions')\n",
    "ax.set_xlabel(u'Temp (°C)')\n",
    "ax.set_ylabel('Frequency')\n",
    "\n",
    "# Make PDF with best params\n",
    "pdf = make_pdf(best_dist[0], best_dist[1])\n",
    "\n",
    "# Display\n",
    "plt.figure(figsize=(12,8))\n",
    "ax = pdf.plot(lw=2, label='PDF', legend=True)\n",
    "data.plot(kind='hist', bins=50, density=True, alpha=0.5, label='Data', legend=True, ax=ax)\n",
    "\n",
    "param_names = (best_dist[0].shapes + ', loc, scale').split(', ') if best_dist[0].shapes else ['loc', 'scale']\n",
    "param_str = ', '.join(['{}={:0.2f}'.format(k,v) for k,v in zip(param_names, best_dist[1])])\n",
    "dist_str = '{}({})'.format(best_dist[0].name, param_str)\n",
    "\n",
    "ax.set_title(u'El Niño sea temp. with best fit distribution \\n' + dist_str)\n",
    "ax.set_xlabel(u'Temp. (°C)')\n",
    "ax.set_ylabel('Frequency')"
   ]
  },
  {
   "cell_type": "code",
   "execution_count": 60,
   "metadata": {},
   "outputs": [],
   "source": [
    "best_dis_for_changed_control =pd.DataFrame(best_distibutions,columns=['dist', 'val', 'rat']).sort_values('rat')\n"
   ]
  },
  {
   "cell_type": "code",
   "execution_count": 61,
   "metadata": {},
   "outputs": [
    {
     "data": {
      "text/html": [
       "<div>\n",
       "<style scoped>\n",
       "    .dataframe tbody tr th:only-of-type {\n",
       "        vertical-align: middle;\n",
       "    }\n",
       "\n",
       "    .dataframe tbody tr th {\n",
       "        vertical-align: top;\n",
       "    }\n",
       "\n",
       "    .dataframe thead th {\n",
       "        text-align: right;\n",
       "    }\n",
       "</style>\n",
       "<table border=\"1\" class=\"dataframe\">\n",
       "  <thead>\n",
       "    <tr style=\"text-align: right;\">\n",
       "      <th></th>\n",
       "      <th>dist</th>\n",
       "      <th>val</th>\n",
       "      <th>rat</th>\n",
       "    </tr>\n",
       "  </thead>\n",
       "  <tbody>\n",
       "    <tr>\n",
       "      <th>0</th>\n",
       "      <td>&lt;scipy.stats._continuous_distns.invgauss_gen o...</td>\n",
       "      <td>(4.967303375589872, -1.7499425202877554, 10.68...</td>\n",
       "      <td>2.307768e-06</td>\n",
       "    </tr>\n",
       "    <tr>\n",
       "      <th>1</th>\n",
       "      <td>&lt;scipy.stats._continuous_distns.norminvgauss_g...</td>\n",
       "      <td>(72.43809993704772, 72.43782453302833, -1.7345...</td>\n",
       "      <td>2.390726e-06</td>\n",
       "    </tr>\n",
       "    <tr>\n",
       "      <th>2</th>\n",
       "      <td>&lt;scipy.stats._continuous_distns.pareto_gen obj...</td>\n",
       "      <td>(1.2160960285620188, -21.294153750359836, 21.2...</td>\n",
       "      <td>4.737040e-06</td>\n",
       "    </tr>\n",
       "    <tr>\n",
       "      <th>3</th>\n",
       "      <td>&lt;scipy.stats._continuous_distns.invweibull_gen...</td>\n",
       "      <td>(0.8341232665113325, -1.9517895317980911, 10.3...</td>\n",
       "      <td>5.503791e-06</td>\n",
       "    </tr>\n",
       "    <tr>\n",
       "      <th>4</th>\n",
       "      <td>&lt;scipy.stats._continuous_distns.genextreme_gen...</td>\n",
       "      <td>(-1.198863067363138, 8.443804233956882, 12.462...</td>\n",
       "      <td>5.503795e-06</td>\n",
       "    </tr>\n",
       "    <tr>\n",
       "      <th>...</th>\n",
       "      <td>...</td>\n",
       "      <td>...</td>\n",
       "      <td>...</td>\n",
       "    </tr>\n",
       "    <tr>\n",
       "      <th>99</th>\n",
       "      <td>&lt;scipy.stats._continuous_distns.trapezoid_gen ...</td>\n",
       "      <td>(0.9999999999999999, 1.0, -310.905, 3553.19999...</td>\n",
       "      <td>1.193232e-03</td>\n",
       "    </tr>\n",
       "    <tr>\n",
       "      <th>100</th>\n",
       "      <td>&lt;scipy.stats._continuous_distns.trapezoid_gen ...</td>\n",
       "      <td>(0.9999999999999999, 1.0, -310.905, 3553.19999...</td>\n",
       "      <td>1.193232e-03</td>\n",
       "    </tr>\n",
       "    <tr>\n",
       "      <th>101</th>\n",
       "      <td>&lt;scipy.stats._continuous_distns.weibull_max_ge...</td>\n",
       "      <td>(0.10829612427852553, 2961.000000000001, 1.723...</td>\n",
       "      <td>1.214052e-03</td>\n",
       "    </tr>\n",
       "    <tr>\n",
       "      <th>102</th>\n",
       "      <td>&lt;scipy.stats._continuous_distns.vonmises_gen o...</td>\n",
       "      <td>(1.8391935193888553, 7.386233765639828, 1.0437...</td>\n",
       "      <td>1.036941e+59</td>\n",
       "    </tr>\n",
       "    <tr>\n",
       "      <th>97</th>\n",
       "      <td>&lt;scipy.stats._continuous_distns.powernorm_gen ...</td>\n",
       "      <td>(1.2873013037536522e-05, -78.53760766598145, 0...</td>\n",
       "      <td>NaN</td>\n",
       "    </tr>\n",
       "  </tbody>\n",
       "</table>\n",
       "<p>103 rows × 3 columns</p>\n",
       "</div>"
      ],
      "text/plain": [
       "                                                  dist  \\\n",
       "0    <scipy.stats._continuous_distns.invgauss_gen o...   \n",
       "1    <scipy.stats._continuous_distns.norminvgauss_g...   \n",
       "2    <scipy.stats._continuous_distns.pareto_gen obj...   \n",
       "3    <scipy.stats._continuous_distns.invweibull_gen...   \n",
       "4    <scipy.stats._continuous_distns.genextreme_gen...   \n",
       "..                                                 ...   \n",
       "99   <scipy.stats._continuous_distns.trapezoid_gen ...   \n",
       "100  <scipy.stats._continuous_distns.trapezoid_gen ...   \n",
       "101  <scipy.stats._continuous_distns.weibull_max_ge...   \n",
       "102  <scipy.stats._continuous_distns.vonmises_gen o...   \n",
       "97   <scipy.stats._continuous_distns.powernorm_gen ...   \n",
       "\n",
       "                                                   val           rat  \n",
       "0    (4.967303375589872, -1.7499425202877554, 10.68...  2.307768e-06  \n",
       "1    (72.43809993704772, 72.43782453302833, -1.7345...  2.390726e-06  \n",
       "2    (1.2160960285620188, -21.294153750359836, 21.2...  4.737040e-06  \n",
       "3    (0.8341232665113325, -1.9517895317980911, 10.3...  5.503791e-06  \n",
       "4    (-1.198863067363138, 8.443804233956882, 12.462...  5.503795e-06  \n",
       "..                                                 ...           ...  \n",
       "99   (0.9999999999999999, 1.0, -310.905, 3553.19999...  1.193232e-03  \n",
       "100  (0.9999999999999999, 1.0, -310.905, 3553.19999...  1.193232e-03  \n",
       "101  (0.10829612427852553, 2961.000000000001, 1.723...  1.214052e-03  \n",
       "102  (1.8391935193888553, 7.386233765639828, 1.0437...  1.036941e+59  \n",
       "97   (1.2873013037536522e-05, -78.53760766598145, 0...           NaN  \n",
       "\n",
       "[103 rows x 3 columns]"
      ]
     },
     "execution_count": 61,
     "metadata": {},
     "output_type": "execute_result"
    }
   ],
   "source": [
    "best_dis_for_changed_control"
   ]
  },
  {
   "cell_type": "code",
   "execution_count": 62,
   "metadata": {},
   "outputs": [],
   "source": [
    "plt.rcParams.update(plt.rcParamsDefault)"
   ]
  },
  {
   "cell_type": "code",
   "execution_count": 63,
   "metadata": {},
   "outputs": [
    {
     "data": {
      "text/plain": [
       "<scipy.stats._continuous_distns.invgauss_gen at 0x24d9106bc10>"
      ]
     },
     "execution_count": 63,
     "metadata": {},
     "output_type": "execute_result"
    }
   ],
   "source": [
    "best_dis_for_changed_control['dist'][0]"
   ]
  },
  {
   "cell_type": "code",
   "execution_count": 64,
   "metadata": {},
   "outputs": [
    {
     "data": {
      "text/plain": [
       "(4.967303375589872, -1.7499425202877554, 10.688374410070185)"
      ]
     },
     "execution_count": 64,
     "metadata": {},
     "output_type": "execute_result"
    }
   ],
   "source": [
    "dist_parametres_for_control = best_dis_for_changed_control['val'][0] #сохраним значения распределения в переменную\n",
    "dist_parametres_for_control"
   ]
  },
  {
   "attachments": {},
   "cell_type": "markdown",
   "metadata": {},
   "source": [
    "[En] After removing the anomaly, we see that there are 2 distributions which describes the test and control group's distribution.\n",
    "__________________________________________________________________________________________\n",
    "[RU] После удаления аномального значения видим, что имеется два распределения близких по оценке соответствия, описывыющих распределения наблюдений в тестовой и контрольной группах."
   ]
  },
  {
   "attachments": {},
   "cell_type": "markdown",
   "metadata": {},
   "source": [
    "[En] Then let's check the sample means distribution in control group without anomaly.\n",
    "__________________________________________________________________________________________\n",
    "[RU] Далее проверим распрелеление выборочных средних в контрольной группе без аномального значения."
   ]
  },
  {
   "cell_type": "code",
   "execution_count": 65,
   "metadata": {},
   "outputs": [
    {
     "name": "stderr",
     "output_type": "stream",
     "text": [
      "100%|██████████| 5000/5000 [00:13<00:00, 359.89it/s]\n"
     ]
    }
   ],
   "source": [
    "result_a_for_changed = []\n",
    "\n",
    "\n",
    "for i in tqdm(range(5000)): #number of iterations\n",
    "    sample_a = table_gate30_changed['sum_gamerounds'].sample(frac=1, replace=True).reset_index() # Sample control group\n",
    "    \n",
    "    result_a_for_changed.append(sample_a['sum_gamerounds'].mean())"
   ]
  },
  {
   "cell_type": "code",
   "execution_count": 66,
   "metadata": {},
   "outputs": [],
   "source": [
    "plt.rcParams.update(plt.rcParamsDefault)"
   ]
  },
  {
   "cell_type": "code",
   "execution_count": 67,
   "metadata": {},
   "outputs": [
    {
     "data": {
      "image/png": "[encoded data removed]",
      "text/plain": [
       "<Figure size 1200x800 with 1 Axes>"
      ]
     },
     "metadata": {},
     "output_type": "display_data"
    },
    {
     "data": {
      "image/png": "[encoded data removed]",
      "text/plain": [
       "<Figure size 1200x800 with 1 Axes>"
      ]
     },
     "metadata": {},
     "output_type": "display_data"
    },
    {
     "data": {
      "image/png": "[encoded data removed]",
      "text/plain": [
       "<Figure size 1200x800 with 1 Axes>"
      ]
     },
     "metadata": {},
     "output_type": "display_data"
    },
    {
     "data": {
      "image/png": "[encoded data removed]",
      "text/plain": [
       "<Figure size 1200x800 with 1 Axes>"
      ]
     },
     "metadata": {},
     "output_type": "display_data"
    },
    {
     "data": {
      "image/png": "[encoded data removed]",
      "text/plain": [
       "<Figure size 1200x800 with 1 Axes>"
      ]
     },
     "metadata": {},
     "output_type": "display_data"
    },
    {
     "data": {
      "image/png": "[encoded data removed]",
      "text/plain": [
       "<Figure size 1200x800 with 1 Axes>"
      ]
     },
     "metadata": {},
     "output_type": "display_data"
    }
   ],
   "source": [
    "\n",
    "result_a_for_changed=pd.Series(result_a_for_changed)\n",
    "result_a_for_changed.hist(bins=50)\n",
    "plt.show()"
   ]
  },
  {
   "cell_type": "code",
   "execution_count": 68,
   "metadata": {},
   "outputs": [
    {
     "data": {
      "image/png": "[encoded data removed]",
      "text/plain": [
       "<Figure size 640x480 with 1 Axes>"
      ]
     },
     "metadata": {},
     "output_type": "display_data"
    }
   ],
   "source": [
    "stats.probplot(result_a_for_changed, dist='norm', plot=plt)\n",
    "plt.show()"
   ]
  },
  {
   "cell_type": "code",
   "execution_count": 69,
   "metadata": {},
   "outputs": [
    {
     "data": {
      "text/plain": [
       "ShapiroResult(statistic=0.9996349811553955, pvalue=0.5116173028945923)"
      ]
     },
     "execution_count": 69,
     "metadata": {},
     "output_type": "execute_result"
    }
   ],
   "source": [
    "stats.shapiro(result_a_for_changed)"
   ]
  },
  {
   "attachments": {},
   "cell_type": "markdown",
   "metadata": {},
   "source": [
    "[En] The sample meaans distribution of control group without anomaly is normal.\n",
    "__________________________________________________________________________________________\n",
    "[RU] Распрделение выборочных средних в контрольной группе без аномального значения нормально или максимально близко нормальному."
   ]
  },
  {
   "attachments": {},
   "cell_type": "markdown",
   "metadata": {},
   "source": [
    "[EN] Our next step will be research the sum played gamerounds for 14 days after installing variance homogeneity.\n",
    "\n",
    "We are going to use Levene test for this research\n",
    "__________________________________________________________________________________________\n",
    "\n",
    "[RU] Далее нам необходимо исследовать значения метрики сумма сыгранных раундов в тестовой и контрольной группы на гомогенность дисперсий.\n",
    "\n",
    "Для этого используем тест Левене."
   ]
  },
  {
   "attachments": {},
   "cell_type": "markdown",
   "metadata": {},
   "source": [
    "[EN] Levene test hypothesis:\n",
    "\n",
    "H0: Variance homogeneity is equal between the 2 comparing groups (test and control) \n",
    "\n",
    "H1: Variance homogeneity is not equal between the 2 comparing groups (test and control) \n",
    "__________________________________________________________________________________________\n",
    "\n",
    "[RU] Гипотеза для проведения теста Левене:\n",
    "\n",
    "Н0: Значения из тестовой и контрольной группы взяты из генеральных совокупностей, в которых дисперсия распределения данных гомогенна. p-value>0.05\n",
    "\n",
    "Н1: Значения из тестовой и контрольной группы взяты из генеральных совокупностей, в которых дисперсия распределения данных НЕ гомогенна. p-value<0.05"
   ]
  },
  {
   "cell_type": "code",
   "execution_count": 70,
   "metadata": {},
   "outputs": [
    {
     "name": "stdout",
     "output_type": "stream",
     "text": [
      "levene statistic: 0.07510153837481241 \n",
      "levene p-value: 0.7840494387892463\n"
     ]
    }
   ],
   "source": [
    "levene_stat, levene_pvalue = stats.levene(table_gate30_changed.sum_gamerounds, table_gate40.sum_gamerounds)\n",
    "print('levene statistic:', levene_stat,'\\n''levene p-value:', levene_pvalue)"
   ]
  },
  {
   "attachments": {},
   "cell_type": "markdown",
   "metadata": {},
   "source": [
    "[EN] We get the result of Levene test that there is no significant difference in variance homogeneity between the comparing groups. So, we haven't the reason to decline H0.\n",
    "\n",
    "__________________________________________________________________________________________\n",
    "\n",
    "[RU] По результатам теста Левене нет статистический значимой разницы между десперсиями тестовой и контрольной группы, поэтому у нас нет оснований отклонить Н0, что дисперсии групп гомогенны.\n",
    "\n"
   ]
  },
  {
   "attachments": {},
   "cell_type": "markdown",
   "metadata": {},
   "source": [
    "\n",
    "__________________________________________________________________________________________\n",
    "\n",
    "[RU] Все условия для применения t-теста соблюдены. Мы проверим исследуемые группы на наличие статистической значимости с помощью критерия Стьюдента и критерия Манна-Уитни с последующей проверкой критериев на ошибку первого и второго рода на распределении (Мощность)."
   ]
  },
  {
   "attachments": {},
   "cell_type": "markdown",
   "metadata": {},
   "source": [
    "[En] Let's import the necessary distribution.\n",
    "_______________________________________________________________________________________________\n",
    "[RU] Далее импортируем необходимое распределение."
   ]
  },
  {
   "cell_type": "code",
   "execution_count": 71,
   "metadata": {},
   "outputs": [],
   "source": [
    "from scipy.stats import invgauss"
   ]
  },
  {
   "cell_type": "code",
   "execution_count": 72,
   "metadata": {},
   "outputs": [],
   "source": [
    "(a_control,b_control,c_control) = dist_parametres_for_control\n",
    "mean, var, skew, kurt = invgauss.stats(a_control,b_control,c_control, moments='mvsk')"
   ]
  },
  {
   "cell_type": "code",
   "execution_count": 73,
   "metadata": {},
   "outputs": [
    {
     "data": {
      "text/plain": [
       "array(51.34245577)"
      ]
     },
     "execution_count": 73,
     "metadata": {},
     "output_type": "execute_result"
    }
   ],
   "source": [
    "mean"
   ]
  },
  {
   "cell_type": "code",
   "execution_count": 74,
   "metadata": {},
   "outputs": [
    {
     "data": {
      "text/plain": [
       "51.342110561757536"
      ]
     },
     "execution_count": 74,
     "metadata": {},
     "output_type": "execute_result"
    }
   ],
   "source": [
    "table_gate30_changed.sum_gamerounds.mean()"
   ]
  },
  {
   "cell_type": "code",
   "execution_count": 75,
   "metadata": {},
   "outputs": [],
   "source": [
    "mean, var, skew, kurt = invgauss.stats(a_test,b_test,c_test, moments='mvsk')"
   ]
  },
  {
   "cell_type": "code",
   "execution_count": 76,
   "metadata": {},
   "outputs": [
    {
     "data": {
      "text/plain": [
       "array(51.29895356)"
      ]
     },
     "execution_count": 76,
     "metadata": {},
     "output_type": "execute_result"
    }
   ],
   "source": [
    "mean"
   ]
  },
  {
   "cell_type": "code",
   "execution_count": 77,
   "metadata": {},
   "outputs": [
    {
     "data": {
      "text/plain": [
       "51.29877552814966"
      ]
     },
     "execution_count": 77,
     "metadata": {},
     "output_type": "execute_result"
    }
   ],
   "source": [
    "table_gate40.sum_gamerounds.mean()"
   ]
  },
  {
   "attachments": {},
   "cell_type": "markdown",
   "metadata": {},
   "source": [
    "[EN] Student's T-Test:\n",
    "\n",
    "H0: There is no significant difference between group's means in the comparing groups. p-value > 0.05\n",
    "\n",
    "H1: There is a significant difference between group's means in the comparing groups. p-value <0.05\n",
    "__________________________________________________________________________________________\n",
    "\n",
    "[RU]  Т-критерий Стьюдента:\n",
    "\n",
    "Н0: Нет статистически значимых различий между средними значениями в исследуемых группах. alpha > 0.05\n",
    "\n",
    "Н1: Статистически значимые различия между средними значениями в исследуемых группах наблюдаются. aplha < 0.05"
   ]
  },
  {
   "cell_type": "code",
   "execution_count": 78,
   "metadata": {},
   "outputs": [
    {
     "name": "stdout",
     "output_type": "stream",
     "text": [
      "t-statistic: 0.0633675766982082 \n",
      "t p-value: 0.9494739458256001\n"
     ]
    }
   ],
   "source": [
    "ttest_stat, pval_ttest=stats.ttest_ind(table_gate30_changed.sum_gamerounds, table_gate40.sum_gamerounds)\n",
    "pval_ttest\n",
    "print('t-statistic:', ttest_stat,'\\n''t p-value:', pval_ttest)"
   ]
  },
  {
   "attachments": {},
   "cell_type": "markdown",
   "metadata": {},
   "source": [
    "[EN] As a result, we haven't the reason to decline H0, because there is no significant difference between group's means the comparing groups\n",
    "__________________________________________________________________________________________\n",
    "\n",
    "[RU] У нас нет оснований отклонить Н0 о том, что не имеется статистически значимых различий между средними значениями в исследуемыми группами."
   ]
  },
  {
   "attachments": {},
   "cell_type": "markdown",
   "metadata": {},
   "source": [
    "[EN] We should calculate the power of the using t-test on our distribution.\n",
    "__________________________________________________________________________________________\n",
    "\n",
    "[RU] Далее, нам необходимо определить мощность исспользуемого t-критерия."
   ]
  },
  {
   "cell_type": "code",
   "execution_count": 79,
   "metadata": {},
   "outputs": [
    {
     "data": {
      "text/plain": [
       "0.00042461349770031825"
      ]
     },
     "execution_count": 79,
     "metadata": {},
     "output_type": "execute_result"
    }
   ],
   "source": [
    "effect_size = (table_gate30_changed.sum_gamerounds.mean()-table_gate40.sum_gamerounds.mean())/table_gate30_changed.sum_gamerounds.std()\n",
    "effect_size\n",
    "# Calculate the effect size on the results of A/b test  / Вычеслим effect size дл результатов A/B-теста"
   ]
  },
  {
   "cell_type": "code",
   "execution_count": 80,
   "metadata": {},
   "outputs": [
    {
     "data": {
      "text/plain": [
       "0.05046575053263044"
      ]
     },
     "execution_count": 80,
     "metadata": {},
     "output_type": "execute_result"
    }
   ],
   "source": [
    "sms.TTestIndPower().solve_power(effect_size=effect_size,alpha=0.05,\n",
    "nobs1=len(table_gate30_changed.sum_gamerounds),\n",
    "ratio=len(table_gate40.sum_gamerounds)/len(table_gate30_changed.sum_gamerounds), \n",
    "power=None) # Calculating the power of t-test on the researching distribution / Рассчитываем мощность t-критерия Стьюдента"
   ]
  },
  {
   "cell_type": "code",
   "execution_count": 81,
   "metadata": {},
   "outputs": [
    {
     "name": "stderr",
     "output_type": "stream",
     "text": [
      "100%|██████████| 10000/10000 [01:29<00:00, 111.25it/s]\n"
     ]
    }
   ],
   "source": [
    "ttest_result = [] \n",
    "n = 10000\n",
    "for i in tqdm(range(n)):\n",
    "    a = invgauss.rvs(a_control,b_control,c_control, size=len(table_gate30_changed.sum_gamerounds))\n",
    "    b = invgauss.rvs(a_test,b_test,c_test, size=len(table_gate40.sum_gamerounds ))\n",
    "    _, pval_ttest= stats.ttest_ind(a,b)\n",
    "    ttest_result.append(pval_ttest) "
   ]
  },
  {
   "cell_type": "code",
   "execution_count": 82,
   "metadata": {},
   "outputs": [
    {
     "data": {
      "text/plain": [
       "0.0503"
      ]
     },
     "execution_count": 82,
     "metadata": {},
     "output_type": "execute_result"
    }
   ],
   "source": [
    "(np.array(ttest_result) <0.05).mean()\n",
    " # Calculating the power of t-test on the researching distribution by bootstrap / Рассчитываем мощность t-критерия Стьюдента с помощью bootstrap"
   ]
  },
  {
   "cell_type": "code",
   "execution_count": 83,
   "metadata": {},
   "outputs": [
    {
     "name": "stderr",
     "output_type": "stream",
     "text": [
      "100%|██████████| 10000/10000 [01:26<00:00, 115.95it/s]\n"
     ]
    }
   ],
   "source": [
    "ttest_result = [] \n",
    "n = 10000\n",
    "for i in tqdm(range(n)):\n",
    "    a = invgauss.rvs(a_control,b_control,c_control, size=len(table_gate30_changed.sum_gamerounds))\n",
    "    b = invgauss.rvs(a_control,b_control,c_control, size=len(table_gate30_changed.sum_gamerounds))\n",
    "    _, pval_ttest= stats.ttest_ind(a,b)\n",
    "    ttest_result.append(pval_ttest)"
   ]
  },
  {
   "cell_type": "code",
   "execution_count": 84,
   "metadata": {},
   "outputs": [
    {
     "data": {
      "text/plain": [
       "0.0486"
      ]
     },
     "execution_count": 84,
     "metadata": {},
     "output_type": "execute_result"
    }
   ],
   "source": [
    "(np.array(ttest_result) <0.05).mean() \n",
    "# Calculating the alpha (False-positive) of t-test on the researching distribution by bootstrap / Рассчитываем ошибку первого рода t-критерия Стьюдента с помощью bootstrap"
   ]
  },
  {
   "cell_type": "code",
   "execution_count": 85,
   "metadata": {},
   "outputs": [
    {
     "data": {
      "text/plain": [
       "0.05000162741666864"
      ]
     },
     "execution_count": 85,
     "metadata": {},
     "output_type": "execute_result"
    }
   ],
   "source": [
    "sms.TTestIndPower().solve_power(effect_size=effect_size,alpha=None,\n",
    "                                nobs1=len(table_gate30_changed.sum_gamerounds),\n",
    "                                ratio=len(table_gate40.sum_gamerounds)/len(table_gate30_changed.sum_gamerounds), \n",
    "                                power=0.050465750522203985)\n",
    "# Calculating the alpha (False-positive) of t-test on the researching distribution / Рассчитываем ошибку первого рода t-критерия Стьюдента"
   ]
  },
  {
   "cell_type": "code",
   "execution_count": 86,
   "metadata": {},
   "outputs": [
    {
     "data": {
      "text/plain": [
       "86310056.19410843"
      ]
     },
     "execution_count": 86,
     "metadata": {},
     "output_type": "execute_result"
    }
   ],
   "source": [
    "sms.TTestIndPower().solve_power(effect_size=effect_size,\n",
    "                                alpha=0.05,\n",
    "                                nobs1=None,\n",
    "                                ratio=len(table_gate40.sum_gamerounds)/len(table_gate30_changed.sum_gamerounds), \n",
    "                                power=0.8) # / Считаем размер выборки, при котором омщность теста будет 80%"
   ]
  },
  {
   "attachments": {},
   "cell_type": "markdown",
   "metadata": {},
   "source": [
    "[EN] The propability to make false-positive mistake of the researched distribution with the initial sample size is less than 5%. We see, that the power of the test is just 5% at the researched distribution. The sample size = 86 000 000 observation is necessary for the 80% power of t-test.\n",
    "__________________________________________________________________________________________\n",
    "\n",
    "[RU] Вероятность совершить ошибку первого рода на исследуемом распрделении с исходным размером выборки ниже 5%. Видим, что на исследуемом распределении с исходным размером выборки мощность теста составляет всего 5%. Для мощности t-теста в 80% на исследуемом распрделении необходима выборка в размере 86,000,000 наблюдений"
   ]
  },
  {
   "attachments": {},
   "cell_type": "markdown",
   "metadata": {},
   "source": [
    "[EN] Let's compare the result of t-test with the result of Mann-Whitney test on recearching distribution. And let's calculate the power of Mann-Whitney.\n",
    "__________________________________________________________________________________________\n",
    "\n",
    "[RU] Далее, сравним результаты t-теста с результатами критерия Манна-Уитни в исследуемом распределении и также вычеслим его мощность."
   ]
  },
  {
   "attachments": {},
   "cell_type": "markdown",
   "metadata": {},
   "source": [
    "[EN] Mann-Whitney test:\n",
    "\n",
    "H0: There is no significant difference between ranks in the comparing groups. p-value > 0.05\n",
    "\n",
    "H1: There is a significant difference between ranks in the comparing groups. p-value <0.05\n",
    "__________________________________________________________________________________________\n",
    "\n",
    "[RU] Тест Манна-Уитни:\n",
    "\n",
    "Н0: Нет статистически значимых различий между рангами в исследуемых группах. alpha > 0.05\n",
    "\n",
    "Н1: Статистически значимые различия между рангами в исследуемых группах наблюдаются. aplha < 0.05"
   ]
  },
  {
   "cell_type": "code",
   "execution_count": 87,
   "metadata": {},
   "outputs": [
    {
     "name": "stdout",
     "output_type": "stream",
     "text": [
      "mann-whitney statistic: 1024285761.5 \n",
      "mann-whitney p-value: 0.05089155279145376\n"
     ]
    }
   ],
   "source": [
    "mn_stat, mn_pvalue = stats.mannwhitneyu(table_gate30_changed.sum_gamerounds, table_gate40.sum_gamerounds, alternative='two-sided') \n",
    "print('mann-whitney statistic:', mn_stat,'\\n''mann-whitney p-value:', mn_pvalue)"
   ]
  },
  {
   "attachments": {},
   "cell_type": "markdown",
   "metadata": {},
   "source": [
    "[EN] As a result, we haven't the reason to decline H0, because there is no significant difference between means in the comparing groups\n",
    "__________________________________________________________________________________________\n",
    "\n",
    "[RU] У нас нет оснований отклонить Н0 о том, что не имеется статистически значимых различий между средними значениями в исследуемыми группами."
   ]
  },
  {
   "cell_type": "code",
   "execution_count": 88,
   "metadata": {},
   "outputs": [
    {
     "name": "stderr",
     "output_type": "stream",
     "text": [
      "100%|██████████| 10000/10000 [14:42<00:00, 11.33it/s]\n"
     ]
    }
   ],
   "source": [
    "mann_result = [] \n",
    "n = 10000\n",
    "for i in tqdm(range(n)):\n",
    "    a = invgauss.rvs(a_control,b_control,c_control, size=len(table_gate30_changed.sum_gamerounds))\n",
    "    b = invgauss.rvs(a_test,b_test,c_test, size=len(table_gate40.sum_gamerounds ))\n",
    "    _, pval_mann= stats.mannwhitneyu(a,b)\n",
    "    mann_result.append(pval_mann)"
   ]
  },
  {
   "cell_type": "code",
   "execution_count": 89,
   "metadata": {},
   "outputs": [
    {
     "data": {
      "text/plain": [
       "0.7553"
      ]
     },
     "execution_count": 89,
     "metadata": {},
     "output_type": "execute_result"
    }
   ],
   "source": [
    "(np.array(mann_result) <0.05).mean() #power of the test"
   ]
  },
  {
   "cell_type": "code",
   "execution_count": 90,
   "metadata": {},
   "outputs": [
    {
     "name": "stderr",
     "output_type": "stream",
     "text": [
      "100%|██████████| 10000/10000 [15:17<00:00, 10.90it/s]\n"
     ]
    }
   ],
   "source": [
    "mann_result = [] \n",
    "n = 10000\n",
    "for i in tqdm(range(n)):\n",
    "    a = invgauss.rvs(a_control,b_control,c_control, size=len(table_gate30_changed.sum_gamerounds))\n",
    "    b = invgauss.rvs(a_control,b_control,c_control, size=len(table_gate30_changed.sum_gamerounds))\n",
    "    _, pval_mann= stats.mannwhitneyu(a,b)\n",
    "    mann_result.append(pval_mann)"
   ]
  },
  {
   "cell_type": "code",
   "execution_count": 91,
   "metadata": {},
   "outputs": [
    {
     "data": {
      "text/plain": [
       "0.052"
      ]
     },
     "execution_count": 91,
     "metadata": {},
     "output_type": "execute_result"
    }
   ],
   "source": [
    "(np.array(mann_result) <0.05).mean() #alpha of the test"
   ]
  },
  {
   "attachments": {},
   "cell_type": "markdown",
   "metadata": {},
   "source": [
    "[EN] The propability to make false-positive mistake of the researched distribution with the initial sample size is less than 5%. We see, that the power of the Mann-Whitney test is somewhat less than 80% at the researched distribution. \n",
    "__________________________________________________________________________________________\n",
    "\n",
    "[RU] Вероятность совершить ошибку первого рода на исследуемом распрделении с исходным размером выборки ниже 5%. Видим, что на исследуемом распределении с исходным размером выборки мощность теста составляет чуть ниже 80%."
   ]
  },
  {
   "attachments": {},
   "cell_type": "markdown",
   "metadata": {},
   "source": [
    "[EN] From comparising of 2 tests for the researched distribution we see that Mann-Whitney test is more powerful which shows alomost the significance difference between groups. Probably, such results can be explained by the fact that Mann-Whitney test compares the ranks between 2 groups. Theofore, it's quite difficult to interpret the result of the test from practical point of view.\n",
    "__________________________________________________________________________________________\n",
    "\n",
    "[RU] Из сравнения двух критериев видим, что на иследуемом распределении с исходным размером выборки критерий Манна-Уитни оказался мощней, почти показав статистически значемые различия между группами. Такие результаты, скорее всего, объясняются тем, что критерий Манна-Уитни сравнивает ранги сравниваемых групп по сравнению с Т-критерием Стьюдента, поэтому его результаты тяжелее интерпритировать в практической плоскости вопроса."
   ]
  },
  {
   "attachments": {},
   "cell_type": "markdown",
   "metadata": {},
   "source": [
    "[EN] Though the both tests show the absense of significant difference between groups, they show different power. Let's check the results of A/B-test with this metric with the help of bootstrap.\n",
    "__________________________________________________________________________________________\n",
    "\n",
    "[RU] Хоть оба теста показали отсутствие статистически значимых различий между группами, но они показали разную мощность. Проверим результаты A/B-теста по данной метрике с помощью метода bootstrap."
   ]
  },
  {
   "cell_type": "code",
   "execution_count": 92,
   "metadata": {},
   "outputs": [
    {
     "name": "stderr",
     "output_type": "stream",
     "text": [
      "100%|██████████| 10000/10000 [00:26<00:00, 374.60it/s]\n"
     ]
    }
   ],
   "source": [
    "result_for_changed = []\n",
    "\n",
    "\n",
    "population_size = max([len(table_gate30_changed.sum_gamerounds), len(table_gate40.sum_gamerounds)]) \n",
    "\n",
    "for i in tqdm(range(10000)): #number of iterations\n",
    "\n",
    "    sample_a = table_gate30_changed.sum_gamerounds.sample(population_size, replace=True) # Sample control group\n",
    "    sample_b = table_gate40.sum_gamerounds.sample(population_size, replace=True) # Sample test group\n",
    "    difference = sample_a.mean()-sample_b.mean()\n",
    "    result_for_changed.append(difference)\n"
   ]
  },
  {
   "cell_type": "code",
   "execution_count": 93,
   "metadata": {},
   "outputs": [],
   "source": [
    "pd_result_for_changed = pd.Series(result_for_changed)"
   ]
  },
  {
   "cell_type": "code",
   "execution_count": 94,
   "metadata": {},
   "outputs": [],
   "source": [
    "plt.rcParams.update(plt.rcParamsDefault)"
   ]
  },
  {
   "cell_type": "code",
   "execution_count": 95,
   "metadata": {},
   "outputs": [
    {
     "data": {
      "image/png": "[encoded data removed]",
      "text/plain": [
       "<Figure size 640x480 with 1 Axes>"
      ]
     },
     "metadata": {},
     "output_type": "display_data"
    }
   ],
   "source": [
    "pd_result_for_changed.hist(bins=50) #построим график распределения значений\n",
    "plt.title('Distribution of difference between с means with confident level 95%') \n",
    "plt.vlines([normal_ci(pd_result_for_changed, pd_result_for_changed.mean(),0.05)],\n",
    "            ymax=600 ,ymin=0, linestyles='-', colors='red') #Построим 95% ДИ (красный цвет) / Red light for 95% CI\n",
    "plt.show()"
   ]
  },
  {
   "cell_type": "code",
   "execution_count": 96,
   "metadata": {},
   "outputs": [
    {
     "name": "stderr",
     "output_type": "stream",
     "text": [
      "c:\\Users\\Slava\\miniconda3\\lib\\site-packages\\scipy\\stats\\_morestats.py:1800: UserWarning: p-value may not be accurate for N > 5000.\n",
      "  warnings.warn(\"p-value may not be accurate for N > 5000.\")\n"
     ]
    },
    {
     "data": {
      "text/plain": [
       "ShapiroResult(statistic=0.999779462814331, pvalue=0.40114477276802063)"
      ]
     },
     "execution_count": 96,
     "metadata": {},
     "output_type": "execute_result"
    }
   ],
   "source": [
    "stats.shapiro(pd_result_for_changed)"
   ]
  },
  {
   "cell_type": "code",
   "execution_count": 97,
   "metadata": {},
   "outputs": [
    {
     "data": {
      "image/png": "[encoded data removed]",
      "text/plain": [
       "<Figure size 640x480 with 1 Axes>"
      ]
     },
     "metadata": {},
     "output_type": "display_data"
    }
   ],
   "source": [
    "stats.probplot(pd_result_for_changed, plot=plt)\n",
    "plt.show()"
   ]
  },
  {
   "cell_type": "code",
   "execution_count": 98,
   "metadata": {},
   "outputs": [
    {
     "data": {
      "text/plain": [
       "0.9529821439517135"
      ]
     },
     "execution_count": 98,
     "metadata": {},
     "output_type": "execute_result"
    }
   ],
   "source": [
    "get_p_value_from_normal(pd_result_for_changed) # Посчитаем веротность получить такие или более ярко выраженные значения"
   ]
  },
  {
   "attachments": {},
   "cell_type": "markdown",
   "metadata": {},
   "source": [
    "[EN] We see in the plot that 0 belongs to the normal confident interval with confident level 95%. This case means that there is no significant difference between the compared groups (the sum of played rounds for 14 days). \n",
    "__________________________________________________________________________________________\n",
    "\n",
    "[RU] Построив нормальный доверительный интервал (ДИ) по среднему значению с уровнем уверенности 95%, видим, что ДИ включает в себя 0 значение, следовательно, статистически значимых различий между средними значениями сравниваемых групп не наблюдается (Метрика сумма сыгранных раундов за 14 дней). Важно отметить, что веротность получить такие или более ярко выраженные значения при использовании метода bootstrap близко к результатам t-теста (с низкой мощностью на исходной выборке) "
   ]
  },
  {
   "attachments": {},
   "cell_type": "markdown",
   "metadata": {},
   "source": [
    "[EN] As a result of the analysis of the secondary metric - 'sum of played gamerounds for 14 days' - with the help of t-test, Mann-Whitney test, method bootstrap for the significant difference of the means/ranks in the test and control groups, we conclude that we don't need to use Mann-Whitney test and its results at this distribution for investigation of means because the Mann-Whitney results can give us the wrong interpretation of significant difference existance between the control and test groups. \n",
    "__________________________________________________________________________________________\n",
    "\n",
    "[RU] Исходя из анализа с помощью критерия Манна-Уитни, критерия Стьюдента и метода Bootstrap второстепенной метрики сумма сыгранных раундов за 14 дней на наличие статистически значимых различий между средними значеними/рангами в тестовой и контрольной группах приходим к выводу, что на данном распределении не стоит использовать критерий Манна-Уитни и его результаты для исследования различий между средними значениями, т.к. его результаты могут привести к ошибочной интерпритации наличия статистически значимой разницы между контрольной и тестовой группами."
   ]
  },
  {
   "attachments": {},
   "cell_type": "markdown",
   "metadata": {},
   "source": [
    "[EN] Notice: This dataset is likely generated or cleaned earlier for presentation in open sources. There are no another important metrics for mobile app which could be changed by introduction of the new feature like ARPU, ARPPU, LTV etc.\n",
    "\n",
    "Summary:\n",
    "\n",
    "Results of comparing test and control groups on metrics are as follows:\n",
    "\n",
    "1. 1-day Retention\n",
    "\n",
    "a) There is no significant difference between the compared groups in Chi-squared results\n",
    "\n",
    "b) There is no significant difference between the compared groups  with the help of the  bootstrap method\n",
    "\n",
    "2. 7-day Retention\n",
    "\n",
    "a) There is a significant difference between the compared groups in Chi-squared results\n",
    "\n",
    "b) There is a significant difference between the compared groups with the help of the bootstrap method\n",
    "\n",
    "3. The sum of played gamerounds for 14 days after installing\n",
    "\n",
    "a) There is no significant difference between the compared groups with the help of the bootstrap method\n",
    "\n",
    "We make a conclusion on the results of A/B-testing that scaling the new feature to all app/users will not give positive changes to the key metric 1-day retention and to the secondary metric the sum played gamerounds for 14 days after installing and but it will give negative changes to the key metric 7-day retention. So, the developers have to deny this feature at all or have to modify the hypothesis and this feature too. "
   ]
  },
  {
   "attachments": {},
   "cell_type": "markdown",
   "metadata": {},
   "source": [
    "[RU] Замечание: Скорее всего данный датасет либо сгенерирован, либо уже обработан и определенные значения очищены, скорректированы для тестового показа. Нет данных по изменениям других важных метрик мобильного приложения, на которые могло повлиять внедрение новой фичи: ARPU, ARPPU, LTV и др.\n",
    "\n",
    "Вывод:\n",
    "\n",
    "Результаты сравнения тестовой и контрольной группы по метрикам:\n",
    "\n",
    "1. Метрика ретеншн 1-го дня \n",
    "\n",
    "a) Нет статистически значимых различий между данными сравниваемых групп (тестовой и контрольной) по результатам анализа с использованием критерия хи-квадрат\n",
    "\n",
    "b) Нет статистически значимых различий между данными сравниваемых групп (тестовой и контрольной) по результатам анализа с использованием метода bootstrap \n",
    "(нет предпосылок раскатывать изменения на весь продукт)\n",
    "\n",
    "2. Метрика ретеншн 7-го дня\n",
    "\n",
    "a) Наблюдаются статистически значимые различия между данными сравниваемых групп (тестовой и контрольной) по результатам анализа с использованием критерия хи-квадрат.\n",
    "\n",
    "b) Наблюдаются статистически значимые различия между данными сравниваемых групп (тестовой и контрольной) по результатам анализа с использованием метода bootstrap. \n",
    "\n",
    "3. Метрика сумма сыгранных раундов за 14 дней после установки - \n",
    "\n",
    "a) Нет статистически значимых различий между средними сравниваемых групп\n",
    "\n",
    "Исходя из анализа результатов A/B-теста приходим к выводу, что масштабирование новой фичи на весь продукт не приведет к положительнм или отрицательным измененим ключевой метрики ретеншн 1го дн и второстепенной метрики сумма сграннх раундов, но будет вести к отрицательнм измененим ключевой метрики ретеншн го дн. Следовательно, стоит отказаться от внедрения новой фичи и самой гипотезы или отложить гипотезу для последующей корректировки.\n",
    "\n"
   ]
  }
 ],
 "metadata": {
  "kernelspec": {
   "display_name": "base",
   "language": "python",
   "name": "python3"
  },
  "language_info": {
   "codemirror_mode": {
    "name": "ipython",
    "version": 3
   },
   "file_extension": ".py",
   "mimetype": "text/x-python",
   "name": "python",
   "nbconvert_exporter": "python",
   "pygments_lexer": "ipython3",
   "version": "3.10.11"
  },
  "orig_nbformat": 4
 },
 "nbformat": 4,
 "nbformat_minor": 2
}
